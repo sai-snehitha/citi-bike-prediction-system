{
 "cells": [
  {
   "cell_type": "code",
   "execution_count": 3,
   "metadata": {},
   "outputs": [],
   "source": [
    "import os\n",
    "os.chdir(\"..\")  # Moves up from 'scripts/' to your root project folder\n"
   ]
  },
  {
   "cell_type": "code",
   "execution_count": 4,
   "metadata": {},
   "outputs": [],
   "source": [
    "#Imports and Setup\n",
    "import os\n",
    "import pandas as pd\n",
    "\n",
    "raw_dir = \"data/raw\"\n",
    "validated_dir = \"data/validated\"\n",
    "\n",
    "# Create validated directory\n",
    "os.makedirs(validated_dir, exist_ok=True)\n"
   ]
  },
  {
   "cell_type": "code",
   "execution_count": 24,
   "metadata": {},
   "outputs": [
    {
     "name": "stdout",
     "output_type": "stream",
     "text": [
      "12 raw files found\n"
     ]
    },
    {
     "data": {
      "text/plain": [
       "['JC-202401-citibike-tripdata.csv',\n",
       " 'JC-202402-citibike-tripdata.csv',\n",
       " 'JC-202403-citibike-tripdata.csv',\n",
       " 'JC-202404-citibike-tripdata.csv',\n",
       " 'JC-202405-citibike-tripdata.csv']"
      ]
     },
     "execution_count": 24,
     "metadata": {},
     "output_type": "execute_result"
    }
   ],
   "source": [
    "#View All Raw Files\n",
    "raw_files = sorted(\n",
    "    [f for f in os.listdir(raw_dir) if f.endswith(\".csv\")]\n",
    ")\n",
    "print(f\"{len(raw_files)} raw files found\")\n",
    "raw_files[:5]  # Show first 5\n"
   ]
  },
  {
   "cell_type": "code",
   "execution_count": 31,
   "metadata": {},
   "outputs": [
    {
     "name": "stdout",
     "output_type": "stream",
     "text": [
      "Loaded JC-202412-citibike-tripdata.csv with shape (54833, 13)\n"
     ]
    },
    {
     "data": {
      "text/plain": [
       "Index(['ride_id', 'rideable_type', 'started_at', 'ended_at',\n",
       "       'start_station_name', 'start_station_id', 'end_station_name',\n",
       "       'end_station_id', 'start_lat', 'start_lng', 'end_lat', 'end_lng',\n",
       "       'member_casual'],\n",
       "      dtype='object')"
      ]
     },
     "execution_count": 31,
     "metadata": {},
     "output_type": "execute_result"
    }
   ],
   "source": [
    "#Load One File and Display Columns\n",
    "sample_file = raw_files[11]\n",
    "df = pd.read_csv(os.path.join(raw_dir, sample_file))\n",
    "print(f\"Loaded {sample_file} with shape {df.shape}\")\n",
    "df.columns\n"
   ]
  },
  {
   "cell_type": "code",
   "execution_count": 32,
   "metadata": {},
   "outputs": [],
   "source": [
    "#Check for Timestamp Columns\n",
    "assert \"started_at\" in df.columns and \"ended_at\" in df.columns, \"Timestamp columns missing!\"\n"
   ]
  },
  {
   "cell_type": "code",
   "execution_count": 33,
   "metadata": {},
   "outputs": [
    {
     "name": "stdout",
     "output_type": "stream",
     "text": [
      "Sample `started_at` values:\n",
      "0    2024-12-06 17:50:49.428\n",
      "1    2024-12-14 11:01:00.309\n",
      "2    2024-12-24 08:07:17.475\n",
      "3    2024-12-19 12:48:05.452\n",
      "4    2024-12-17 11:19:37.631\n",
      "Name: started_at, dtype: object\n",
      "\n",
      "Sample `ended_at` values:\n",
      "0    2024-12-06 17:54:20.070\n",
      "1    2024-12-14 11:12:01.382\n",
      "2    2024-12-24 08:14:14.612\n",
      "3    2024-12-19 12:54:15.253\n",
      "4    2024-12-17 11:28:25.150\n",
      "Name: ended_at, dtype: object\n"
     ]
    }
   ],
   "source": [
    "# Preview timestamp column formats\n",
    "print(\"Sample `started_at` values:\")\n",
    "print(df[\"started_at\"].head(5))\n",
    "print(\"\\nSample `ended_at` values:\")\n",
    "print(df[\"ended_at\"].head(5))\n"
   ]
  },
  {
   "cell_type": "code",
   "execution_count": 35,
   "metadata": {},
   "outputs": [
    {
     "data": {
      "text/html": [
       "<div>\n",
       "<style scoped>\n",
       "    .dataframe tbody tr th:only-of-type {\n",
       "        vertical-align: middle;\n",
       "    }\n",
       "\n",
       "    .dataframe tbody tr th {\n",
       "        vertical-align: top;\n",
       "    }\n",
       "\n",
       "    .dataframe thead th {\n",
       "        text-align: right;\n",
       "    }\n",
       "</style>\n",
       "<table border=\"1\" class=\"dataframe\">\n",
       "  <thead>\n",
       "    <tr style=\"text-align: right;\">\n",
       "      <th></th>\n",
       "      <th>ride_id</th>\n",
       "      <th>rideable_type</th>\n",
       "      <th>started_at</th>\n",
       "      <th>ended_at</th>\n",
       "      <th>start_station_name</th>\n",
       "      <th>start_station_id</th>\n",
       "      <th>end_station_name</th>\n",
       "      <th>end_station_id</th>\n",
       "      <th>start_lat</th>\n",
       "      <th>start_lng</th>\n",
       "      <th>end_lat</th>\n",
       "      <th>end_lng</th>\n",
       "      <th>member_casual</th>\n",
       "    </tr>\n",
       "  </thead>\n",
       "  <tbody>\n",
       "    <tr>\n",
       "      <th>0</th>\n",
       "      <td>28A17ACD224CD80B</td>\n",
       "      <td>electric_bike</td>\n",
       "      <td>2024-12-06 17:50:49.428</td>\n",
       "      <td>2024-12-06 17:54:20.070</td>\n",
       "      <td>Oakland Ave</td>\n",
       "      <td>JC022</td>\n",
       "      <td>Hilltop</td>\n",
       "      <td>JC019</td>\n",
       "      <td>40.737604</td>\n",
       "      <td>-74.052478</td>\n",
       "      <td>40.731169</td>\n",
       "      <td>-74.057574</td>\n",
       "      <td>member</td>\n",
       "    </tr>\n",
       "    <tr>\n",
       "      <th>1</th>\n",
       "      <td>3508393A86FBD357</td>\n",
       "      <td>classic_bike</td>\n",
       "      <td>2024-12-14 11:01:00.309</td>\n",
       "      <td>2024-12-14 11:12:01.382</td>\n",
       "      <td>Oakland Ave</td>\n",
       "      <td>JC022</td>\n",
       "      <td>Hoboken Terminal - Hudson St &amp; Hudson Pl</td>\n",
       "      <td>HB101</td>\n",
       "      <td>40.737604</td>\n",
       "      <td>-74.052478</td>\n",
       "      <td>40.735938</td>\n",
       "      <td>-74.030305</td>\n",
       "      <td>member</td>\n",
       "    </tr>\n",
       "    <tr>\n",
       "      <th>2</th>\n",
       "      <td>75FA4C03A1447401</td>\n",
       "      <td>electric_bike</td>\n",
       "      <td>2024-12-24 08:07:17.475</td>\n",
       "      <td>2024-12-24 08:14:14.612</td>\n",
       "      <td>Oakland Ave</td>\n",
       "      <td>JC022</td>\n",
       "      <td>Leonard Gordon Park</td>\n",
       "      <td>JC080</td>\n",
       "      <td>40.737604</td>\n",
       "      <td>-74.052478</td>\n",
       "      <td>40.745910</td>\n",
       "      <td>-74.057271</td>\n",
       "      <td>member</td>\n",
       "    </tr>\n",
       "    <tr>\n",
       "      <th>3</th>\n",
       "      <td>C7741EF495C597DD</td>\n",
       "      <td>classic_bike</td>\n",
       "      <td>2024-12-19 12:48:05.452</td>\n",
       "      <td>2024-12-19 12:54:15.253</td>\n",
       "      <td>Oakland Ave</td>\n",
       "      <td>JC022</td>\n",
       "      <td>Leonard Gordon Park</td>\n",
       "      <td>JC080</td>\n",
       "      <td>40.737604</td>\n",
       "      <td>-74.052478</td>\n",
       "      <td>40.745910</td>\n",
       "      <td>-74.057271</td>\n",
       "      <td>member</td>\n",
       "    </tr>\n",
       "    <tr>\n",
       "      <th>4</th>\n",
       "      <td>07952BB20B46C5B1</td>\n",
       "      <td>electric_bike</td>\n",
       "      <td>2024-12-17 11:19:37.631</td>\n",
       "      <td>2024-12-17 11:28:25.150</td>\n",
       "      <td>Oakland Ave</td>\n",
       "      <td>JC022</td>\n",
       "      <td>Grove St PATH</td>\n",
       "      <td>JC115</td>\n",
       "      <td>40.737604</td>\n",
       "      <td>-74.052478</td>\n",
       "      <td>40.719410</td>\n",
       "      <td>-74.043090</td>\n",
       "      <td>casual</td>\n",
       "    </tr>\n",
       "    <tr>\n",
       "      <th>5</th>\n",
       "      <td>431601566E33CCB7</td>\n",
       "      <td>electric_bike</td>\n",
       "      <td>2024-12-16 15:57:04.184</td>\n",
       "      <td>2024-12-16 16:01:23.502</td>\n",
       "      <td>Oakland Ave</td>\n",
       "      <td>JC022</td>\n",
       "      <td>Southwest Park - Jackson St &amp; Observer Hwy</td>\n",
       "      <td>HB401</td>\n",
       "      <td>40.737604</td>\n",
       "      <td>-74.052478</td>\n",
       "      <td>40.737551</td>\n",
       "      <td>-74.041664</td>\n",
       "      <td>member</td>\n",
       "    </tr>\n",
       "    <tr>\n",
       "      <th>6</th>\n",
       "      <td>FB052BAFC90AF0AB</td>\n",
       "      <td>electric_bike</td>\n",
       "      <td>2024-12-15 00:39:04.916</td>\n",
       "      <td>2024-12-15 01:02:26.732</td>\n",
       "      <td>Oakland Ave</td>\n",
       "      <td>JC022</td>\n",
       "      <td>Oakland Ave</td>\n",
       "      <td>JC022</td>\n",
       "      <td>40.737604</td>\n",
       "      <td>-74.052478</td>\n",
       "      <td>40.737604</td>\n",
       "      <td>-74.052478</td>\n",
       "      <td>casual</td>\n",
       "    </tr>\n",
       "    <tr>\n",
       "      <th>7</th>\n",
       "      <td>98239E90D8714A23</td>\n",
       "      <td>electric_bike</td>\n",
       "      <td>2024-12-16 18:14:01.854</td>\n",
       "      <td>2024-12-16 18:19:14.977</td>\n",
       "      <td>South Waterfront Walkway - Sinatra Dr &amp; 1 St</td>\n",
       "      <td>HB103</td>\n",
       "      <td>6 St &amp; Grand St</td>\n",
       "      <td>HB302</td>\n",
       "      <td>40.736982</td>\n",
       "      <td>-74.027781</td>\n",
       "      <td>40.744398</td>\n",
       "      <td>-74.034501</td>\n",
       "      <td>member</td>\n",
       "    </tr>\n",
       "    <tr>\n",
       "      <th>8</th>\n",
       "      <td>505BF82173A81F99</td>\n",
       "      <td>electric_bike</td>\n",
       "      <td>2024-12-04 18:25:39.604</td>\n",
       "      <td>2024-12-04 18:30:58.504</td>\n",
       "      <td>South Waterfront Walkway - Sinatra Dr &amp; 1 St</td>\n",
       "      <td>HB103</td>\n",
       "      <td>6 St &amp; Grand St</td>\n",
       "      <td>HB302</td>\n",
       "      <td>40.736982</td>\n",
       "      <td>-74.027781</td>\n",
       "      <td>40.744398</td>\n",
       "      <td>-74.034501</td>\n",
       "      <td>member</td>\n",
       "    </tr>\n",
       "    <tr>\n",
       "      <th>9</th>\n",
       "      <td>A0DAEB761EC2ADD1</td>\n",
       "      <td>electric_bike</td>\n",
       "      <td>2024-12-08 11:03:23.746</td>\n",
       "      <td>2024-12-08 11:07:59.119</td>\n",
       "      <td>Baldwin at Montgomery</td>\n",
       "      <td>JC020</td>\n",
       "      <td>Baldwin at Montgomery</td>\n",
       "      <td>JC020</td>\n",
       "      <td>40.723659</td>\n",
       "      <td>-74.064194</td>\n",
       "      <td>40.723659</td>\n",
       "      <td>-74.064194</td>\n",
       "      <td>member</td>\n",
       "    </tr>\n",
       "  </tbody>\n",
       "</table>\n",
       "</div>"
      ],
      "text/plain": [
       "            ride_id  rideable_type               started_at  \\\n",
       "0  28A17ACD224CD80B  electric_bike  2024-12-06 17:50:49.428   \n",
       "1  3508393A86FBD357   classic_bike  2024-12-14 11:01:00.309   \n",
       "2  75FA4C03A1447401  electric_bike  2024-12-24 08:07:17.475   \n",
       "3  C7741EF495C597DD   classic_bike  2024-12-19 12:48:05.452   \n",
       "4  07952BB20B46C5B1  electric_bike  2024-12-17 11:19:37.631   \n",
       "5  431601566E33CCB7  electric_bike  2024-12-16 15:57:04.184   \n",
       "6  FB052BAFC90AF0AB  electric_bike  2024-12-15 00:39:04.916   \n",
       "7  98239E90D8714A23  electric_bike  2024-12-16 18:14:01.854   \n",
       "8  505BF82173A81F99  electric_bike  2024-12-04 18:25:39.604   \n",
       "9  A0DAEB761EC2ADD1  electric_bike  2024-12-08 11:03:23.746   \n",
       "\n",
       "                  ended_at                            start_station_name  \\\n",
       "0  2024-12-06 17:54:20.070                                   Oakland Ave   \n",
       "1  2024-12-14 11:12:01.382                                   Oakland Ave   \n",
       "2  2024-12-24 08:14:14.612                                   Oakland Ave   \n",
       "3  2024-12-19 12:54:15.253                                   Oakland Ave   \n",
       "4  2024-12-17 11:28:25.150                                   Oakland Ave   \n",
       "5  2024-12-16 16:01:23.502                                   Oakland Ave   \n",
       "6  2024-12-15 01:02:26.732                                   Oakland Ave   \n",
       "7  2024-12-16 18:19:14.977  South Waterfront Walkway - Sinatra Dr & 1 St   \n",
       "8  2024-12-04 18:30:58.504  South Waterfront Walkway - Sinatra Dr & 1 St   \n",
       "9  2024-12-08 11:07:59.119                         Baldwin at Montgomery   \n",
       "\n",
       "  start_station_id                            end_station_name end_station_id  \\\n",
       "0            JC022                                     Hilltop          JC019   \n",
       "1            JC022    Hoboken Terminal - Hudson St & Hudson Pl          HB101   \n",
       "2            JC022                         Leonard Gordon Park          JC080   \n",
       "3            JC022                         Leonard Gordon Park          JC080   \n",
       "4            JC022                               Grove St PATH          JC115   \n",
       "5            JC022  Southwest Park - Jackson St & Observer Hwy          HB401   \n",
       "6            JC022                                 Oakland Ave          JC022   \n",
       "7            HB103                             6 St & Grand St          HB302   \n",
       "8            HB103                             6 St & Grand St          HB302   \n",
       "9            JC020                       Baldwin at Montgomery          JC020   \n",
       "\n",
       "   start_lat  start_lng    end_lat    end_lng member_casual  \n",
       "0  40.737604 -74.052478  40.731169 -74.057574        member  \n",
       "1  40.737604 -74.052478  40.735938 -74.030305        member  \n",
       "2  40.737604 -74.052478  40.745910 -74.057271        member  \n",
       "3  40.737604 -74.052478  40.745910 -74.057271        member  \n",
       "4  40.737604 -74.052478  40.719410 -74.043090        casual  \n",
       "5  40.737604 -74.052478  40.737551 -74.041664        member  \n",
       "6  40.737604 -74.052478  40.737604 -74.052478        casual  \n",
       "7  40.736982 -74.027781  40.744398 -74.034501        member  \n",
       "8  40.736982 -74.027781  40.744398 -74.034501        member  \n",
       "9  40.723659 -74.064194  40.723659 -74.064194        member  "
      ]
     },
     "execution_count": 35,
     "metadata": {},
     "output_type": "execute_result"
    }
   ],
   "source": [
    "# Preview all columns for the first 5 rows\n",
    "df.head(10)\n"
   ]
  },
  {
   "cell_type": "code",
   "execution_count": 36,
   "metadata": {},
   "outputs": [
    {
     "data": {
      "text/html": [
       "<div>\n",
       "<style scoped>\n",
       "    .dataframe tbody tr th:only-of-type {\n",
       "        vertical-align: middle;\n",
       "    }\n",
       "\n",
       "    .dataframe tbody tr th {\n",
       "        vertical-align: top;\n",
       "    }\n",
       "\n",
       "    .dataframe thead th {\n",
       "        text-align: right;\n",
       "    }\n",
       "</style>\n",
       "<table border=\"1\" class=\"dataframe\">\n",
       "  <thead>\n",
       "    <tr style=\"text-align: right;\">\n",
       "      <th></th>\n",
       "      <th>ride_id</th>\n",
       "      <th>rideable_type</th>\n",
       "      <th>started_at</th>\n",
       "      <th>ended_at</th>\n",
       "      <th>start_station_name</th>\n",
       "      <th>start_station_id</th>\n",
       "      <th>end_station_name</th>\n",
       "      <th>end_station_id</th>\n",
       "      <th>start_lat</th>\n",
       "      <th>start_lng</th>\n",
       "      <th>end_lat</th>\n",
       "      <th>end_lng</th>\n",
       "      <th>member_casual</th>\n",
       "      <th>duration</th>\n",
       "    </tr>\n",
       "  </thead>\n",
       "  <tbody>\n",
       "    <tr>\n",
       "      <th>0</th>\n",
       "      <td>28A17ACD224CD80B</td>\n",
       "      <td>electric_bike</td>\n",
       "      <td>2024-12-06 17:50:49.428</td>\n",
       "      <td>2024-12-06 17:54:20.070</td>\n",
       "      <td>Oakland Ave</td>\n",
       "      <td>JC022</td>\n",
       "      <td>Hilltop</td>\n",
       "      <td>JC019</td>\n",
       "      <td>40.737604</td>\n",
       "      <td>-74.052478</td>\n",
       "      <td>40.731169</td>\n",
       "      <td>-74.057574</td>\n",
       "      <td>member</td>\n",
       "      <td>0 days 00:03:30.642000</td>\n",
       "    </tr>\n",
       "    <tr>\n",
       "      <th>1</th>\n",
       "      <td>3508393A86FBD357</td>\n",
       "      <td>classic_bike</td>\n",
       "      <td>2024-12-14 11:01:00.309</td>\n",
       "      <td>2024-12-14 11:12:01.382</td>\n",
       "      <td>Oakland Ave</td>\n",
       "      <td>JC022</td>\n",
       "      <td>Hoboken Terminal - Hudson St &amp; Hudson Pl</td>\n",
       "      <td>HB101</td>\n",
       "      <td>40.737604</td>\n",
       "      <td>-74.052478</td>\n",
       "      <td>40.735938</td>\n",
       "      <td>-74.030305</td>\n",
       "      <td>member</td>\n",
       "      <td>0 days 00:11:01.073000</td>\n",
       "    </tr>\n",
       "    <tr>\n",
       "      <th>2</th>\n",
       "      <td>75FA4C03A1447401</td>\n",
       "      <td>electric_bike</td>\n",
       "      <td>2024-12-24 08:07:17.475</td>\n",
       "      <td>2024-12-24 08:14:14.612</td>\n",
       "      <td>Oakland Ave</td>\n",
       "      <td>JC022</td>\n",
       "      <td>Leonard Gordon Park</td>\n",
       "      <td>JC080</td>\n",
       "      <td>40.737604</td>\n",
       "      <td>-74.052478</td>\n",
       "      <td>40.745910</td>\n",
       "      <td>-74.057271</td>\n",
       "      <td>member</td>\n",
       "      <td>0 days 00:06:57.137000</td>\n",
       "    </tr>\n",
       "    <tr>\n",
       "      <th>3</th>\n",
       "      <td>C7741EF495C597DD</td>\n",
       "      <td>classic_bike</td>\n",
       "      <td>2024-12-19 12:48:05.452</td>\n",
       "      <td>2024-12-19 12:54:15.253</td>\n",
       "      <td>Oakland Ave</td>\n",
       "      <td>JC022</td>\n",
       "      <td>Leonard Gordon Park</td>\n",
       "      <td>JC080</td>\n",
       "      <td>40.737604</td>\n",
       "      <td>-74.052478</td>\n",
       "      <td>40.745910</td>\n",
       "      <td>-74.057271</td>\n",
       "      <td>member</td>\n",
       "      <td>0 days 00:06:09.801000</td>\n",
       "    </tr>\n",
       "    <tr>\n",
       "      <th>4</th>\n",
       "      <td>07952BB20B46C5B1</td>\n",
       "      <td>electric_bike</td>\n",
       "      <td>2024-12-17 11:19:37.631</td>\n",
       "      <td>2024-12-17 11:28:25.150</td>\n",
       "      <td>Oakland Ave</td>\n",
       "      <td>JC022</td>\n",
       "      <td>Grove St PATH</td>\n",
       "      <td>JC115</td>\n",
       "      <td>40.737604</td>\n",
       "      <td>-74.052478</td>\n",
       "      <td>40.719410</td>\n",
       "      <td>-74.043090</td>\n",
       "      <td>casual</td>\n",
       "      <td>0 days 00:08:47.519000</td>\n",
       "    </tr>\n",
       "  </tbody>\n",
       "</table>\n",
       "</div>"
      ],
      "text/plain": [
       "            ride_id  rideable_type               started_at  \\\n",
       "0  28A17ACD224CD80B  electric_bike  2024-12-06 17:50:49.428   \n",
       "1  3508393A86FBD357   classic_bike  2024-12-14 11:01:00.309   \n",
       "2  75FA4C03A1447401  electric_bike  2024-12-24 08:07:17.475   \n",
       "3  C7741EF495C597DD   classic_bike  2024-12-19 12:48:05.452   \n",
       "4  07952BB20B46C5B1  electric_bike  2024-12-17 11:19:37.631   \n",
       "\n",
       "                  ended_at start_station_name start_station_id  \\\n",
       "0  2024-12-06 17:54:20.070        Oakland Ave            JC022   \n",
       "1  2024-12-14 11:12:01.382        Oakland Ave            JC022   \n",
       "2  2024-12-24 08:14:14.612        Oakland Ave            JC022   \n",
       "3  2024-12-19 12:54:15.253        Oakland Ave            JC022   \n",
       "4  2024-12-17 11:28:25.150        Oakland Ave            JC022   \n",
       "\n",
       "                           end_station_name end_station_id  start_lat  \\\n",
       "0                                   Hilltop          JC019  40.737604   \n",
       "1  Hoboken Terminal - Hudson St & Hudson Pl          HB101  40.737604   \n",
       "2                       Leonard Gordon Park          JC080  40.737604   \n",
       "3                       Leonard Gordon Park          JC080  40.737604   \n",
       "4                             Grove St PATH          JC115  40.737604   \n",
       "\n",
       "   start_lng    end_lat    end_lng member_casual               duration  \n",
       "0 -74.052478  40.731169 -74.057574        member 0 days 00:03:30.642000  \n",
       "1 -74.052478  40.735938 -74.030305        member 0 days 00:11:01.073000  \n",
       "2 -74.052478  40.745910 -74.057271        member 0 days 00:06:57.137000  \n",
       "3 -74.052478  40.745910 -74.057271        member 0 days 00:06:09.801000  \n",
       "4 -74.052478  40.719410 -74.043090        casual 0 days 00:08:47.519000  "
      ]
     },
     "execution_count": 36,
     "metadata": {},
     "output_type": "execute_result"
    }
   ],
   "source": [
    "#Add duration column\n",
    "df_cp = df.copy()\n",
    "df_cp[\"duration\"] = pd.to_datetime(df_cp[\"ended_at\"]) - pd.to_datetime(df_cp[\"started_at\"])\n",
    "df_cp.head()\n"
   ]
  },
  {
   "cell_type": "code",
   "execution_count": 38,
   "metadata": {},
   "outputs": [
    {
     "name": "stdout",
     "output_type": "stream",
     "text": [
      "54833 valid rows remaining (duration > 60 seconds)\n"
     ]
    },
    {
     "data": {
      "text/plain": [
       "count                        54833\n",
       "mean     0 days 00:08:10.996458209\n",
       "std      0 days 00:32:42.017253277\n",
       "min         0 days 00:01:00.208000\n",
       "25%         0 days 00:03:44.239000\n",
       "50%         0 days 00:05:28.087000\n",
       "75%         0 days 00:08:13.033000\n",
       "max         1 days 00:59:57.506000\n",
       "Name: duration, dtype: object"
      ]
     },
     "execution_count": 38,
     "metadata": {},
     "output_type": "execute_result"
    }
   ],
   "source": [
    "#Remove Zero/Negative Durations\n",
    "df_cp = df_cp[df_cp[\"duration\"].dt.total_seconds() > 60]  # Remove rides ≤ 60s\n",
    "print(f\"{len(df_cp)} valid rows remaining (duration > 60 seconds)\")\n",
    "df_cp[\"duration\"].describe()\n"
   ]
  },
  {
   "cell_type": "code",
   "execution_count": 39,
   "metadata": {},
   "outputs": [],
   "source": [
    "df_cp = df_cp.dropna(subset=[\"start_station_id\", \"end_station_id\", \"start_lat\", \"start_lng\", \"end_lat\", \"end_lng\", \"duration\"])\n"
   ]
  },
  {
   "cell_type": "code",
   "execution_count": 40,
   "metadata": {},
   "outputs": [
    {
     "data": {
      "image/png": "[encoded data removed]",
      "text/plain": [
       "<Figure size 1000x100 with 1 Axes>"
      ]
     },
     "metadata": {},
     "output_type": "display_data"
    },
    {
     "data": {
      "image/png": "[encoded data removed]",
      "text/plain": [
       "<Figure size 800x400 with 1 Axes>"
      ]
     },
     "metadata": {},
     "output_type": "display_data"
    }
   ],
   "source": [
    "import matplotlib.pyplot as plt\n",
    "\n",
    "# Convert duration to minutes\n",
    "df_cp[\"duration_minutes\"] = df_cp[\"duration\"].dt.total_seconds() / 60\n",
    "\n",
    "# Boxplot\n",
    "plt.figure(figsize=(10, 1))\n",
    "plt.boxplot(df_cp[\"duration_minutes\"], vert=False)\n",
    "plt.title(\"Boxplot of Trip Durations (minutes)\")\n",
    "plt.xlabel(\"Duration (min)\")\n",
    "plt.show()\n",
    "\n",
    "# Histogram\n",
    "plt.figure(figsize=(8, 4))\n",
    "plt.hist(df_cp[\"duration_minutes\"], bins=100, color=\"skyblue\", edgecolor=\"black\")\n",
    "plt.title(\"Histogram of Trip Durations\")\n",
    "plt.xlabel(\"Duration (minutes)\")\n",
    "plt.ylabel(\"Frequency\")\n",
    "plt.xlim(0, 60)  # limit to 1 hour for visibility\n",
    "plt.show()\n"
   ]
  },
  {
   "cell_type": "code",
   "execution_count": 42,
   "metadata": {},
   "outputs": [
    {
     "name": "stdout",
     "output_type": "stream",
     "text": [
      "⛔️ Outliers (duration > 2 hours): 0 rows\n"
     ]
    }
   ],
   "source": [
    "# Count how many rows exceed 2 hours\n",
    "outlier_count = (df_cp[\"duration\"].dt.total_seconds() > 120 * 60).sum()\n",
    "print(f\"⛔️ Outliers (duration > 2 hours): {outlier_count} rows\")\n"
   ]
  },
  {
   "cell_type": "code",
   "execution_count": 43,
   "metadata": {},
   "outputs": [
    {
     "name": "stdout",
     "output_type": "stream",
     "text": [
      "54617 rows retained after filtering out long trips (> 2 hours)\n"
     ]
    }
   ],
   "source": [
    "# Final clean-up: remove trips longer than 2 hours (120 minutes)\n",
    "df_cp = df_cp[df_cp[\"duration\"].dt.total_seconds() <= 120 * 60]\n",
    "print(f\"{len(df_cp)} rows retained after filtering out long trips (> 2 hours)\")\n"
   ]
  },
  {
   "cell_type": "code",
   "execution_count": 44,
   "metadata": {},
   "outputs": [
    {
     "name": "stdout",
     "output_type": "stream",
     "text": [
      "0 rows with future started_at\n",
      "0 rows with future ended_at\n"
     ]
    }
   ],
   "source": [
    "#future timestamps check \n",
    "from datetime import datetime\n",
    "\n",
    "# Convert columns if not already datetime\n",
    "df_cp[\"started_at\"] = pd.to_datetime(df_cp[\"started_at\"])\n",
    "df_cp[\"ended_at\"] = pd.to_datetime(df_cp[\"ended_at\"])\n",
    "\n",
    "# Get current timestamp\n",
    "now = datetime.now()\n",
    "\n",
    "# Find future timestamps\n",
    "future_start = df_cp[df_cp[\"started_at\"] > now]\n",
    "future_end = df_cp[df_cp[\"ended_at\"] > now]\n",
    "\n",
    "print(f\"{len(future_start)} rows with future started_at\")\n",
    "print(f\"{len(future_end)} rows with future ended_at\")\n"
   ]
  },
  {
   "cell_type": "code",
   "execution_count": 45,
   "metadata": {},
   "outputs": [
    {
     "name": "stdout",
     "output_type": "stream",
     "text": [
      "Exact duplicate rows: 0\n",
      "Subset duplicate rows: 0\n"
     ]
    }
   ],
   "source": [
    "#Check for Duplicate Records\n",
    "# Check for exact duplicates\n",
    "exact_dupes = df_cp[df_cp.duplicated()]\n",
    "print(f\"Exact duplicate rows: {len(exact_dupes)}\")\n",
    "\n",
    "# Optionally: Check duplicates based on specific columns (excluding 'ride_id')\n",
    "subset_dupes = df_cp[df_cp.duplicated(subset=[\"started_at\", \"start_station_id\", \"end_station_id\", \"duration\"])]\n",
    "print(f\"Subset duplicate rows: {len(subset_dupes)}\")\n"
   ]
  },
  {
   "cell_type": "code",
   "execution_count": 46,
   "metadata": {},
   "outputs": [
    {
     "name": "stdout",
     "output_type": "stream",
     "text": [
      "Rideable Types:\n",
      " rideable_type\n",
      "electric_bike    37104\n",
      "classic_bike     17513\n",
      "Name: count, dtype: int64\n",
      "\n",
      "Member Categories:\n",
      " member_casual\n",
      "member    45054\n",
      "casual     9563\n",
      "Name: count, dtype: int64\n"
     ]
    }
   ],
   "source": [
    "#check for unexpected or inconsistent value\n",
    "print(\"Rideable Types:\\n\", df_cp[\"rideable_type\"].value_counts(dropna=False))\n",
    "print(\"\\nMember Categories:\\n\", df_cp[\"member_casual\"].value_counts(dropna=False))\n"
   ]
  },
  {
   "cell_type": "code",
   "execution_count": 47,
   "metadata": {},
   "outputs": [],
   "source": [
    "import os\n",
    "validated_dir = \"data/validated\"\n",
    "os.makedirs(validated_dir, exist_ok=True)\n"
   ]
  },
  {
   "cell_type": "code",
   "execution_count": 48,
   "metadata": {},
   "outputs": [
    {
     "name": "stdout",
     "output_type": "stream",
     "text": [
      "✅ Saved cleaned file: JC-202412-citibike-tripdata.csv\n",
      "✅ Saved cleaned file: JC-202404-citibike-tripdata.csv\n",
      "✅ Saved cleaned file: JC-202410-citibike-tripdata.csv\n",
      "✅ Saved cleaned file: JC-202406-citibike-tripdata.csv\n",
      "✅ Saved cleaned file: JC-202408-citibike-tripdata.csv\n",
      "✅ Saved cleaned file: JC-202402-citibike-tripdata.csv\n",
      "✅ Saved cleaned file: JC-202405-citibike-tripdata.csv\n",
      "✅ Saved cleaned file: JC-202407-citibike-tripdata.csv\n",
      "✅ Saved cleaned file: JC-202411-citibike-tripdata.csv\n",
      "✅ Saved cleaned file: JC-202401-citibike-tripdata.csv\n",
      "✅ Saved cleaned file: JC-202409-citibike-tripdata.csv\n",
      "✅ Saved cleaned file: JC-202403-citibike-tripdata.csv\n"
     ]
    }
   ],
   "source": [
    "import os\n",
    "import pandas as pd\n",
    "\n",
    "raw_dir = \"data/raw\"\n",
    "validated_dir = \"data/validated\"\n",
    "os.makedirs(validated_dir, exist_ok=True)\n",
    "\n",
    "raw_files = [f for f in os.listdir(raw_dir) if f.endswith(\".csv\")]\n",
    "\n",
    "for fname in raw_files:\n",
    "    df = pd.read_csv(os.path.join(raw_dir, fname))\n",
    "    \n",
    "    # Copy and compute duration\n",
    "    df_cp = df.copy()\n",
    "    df_cp[\"duration\"] = pd.to_datetime(df_cp[\"ended_at\"]) - pd.to_datetime(df_cp[\"started_at\"])\n",
    "    \n",
    "    # Apply cleaning filters\n",
    "    df_cp = df_cp[df_cp[\"duration\"].dt.total_seconds() > 60]               # Keep trips > 1 minute\n",
    "    df_cp = df_cp[df_cp[\"duration\"].dt.total_seconds() <= 120 * 60]       # Keep trips ≤ 2 hours\n",
    "    df_cp = df_cp.dropna(subset=[\"start_station_id\", \"end_station_id\", \n",
    "                                 \"start_lat\", \"start_lng\", \"end_lat\", \"end_lng\", \"duration\"])\n",
    "    \n",
    "    # Save cleaned file\n",
    "    df_cp.to_csv(os.path.join(validated_dir, fname), index=False)\n",
    "    print(f\"✅ Saved cleaned file: {fname}\")\n",
    "\n"
   ]
  }
 ],
 "metadata": {
  "kernelspec": {
   "display_name": "venv",
   "language": "python",
   "name": "python3"
  },
  "language_info": {
   "codemirror_mode": {
    "name": "ipython",
    "version": 3
   },
   "file_extension": ".py",
   "mimetype": "text/x-python",
   "name": "python",
   "nbconvert_exporter": "python",
   "pygments_lexer": "ipython3",
   "version": "3.10.16"
  }
 },
 "nbformat": 4,
 "nbformat_minor": 2
}
