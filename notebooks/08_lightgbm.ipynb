{
 "cells": [
  {
   "cell_type": "code",
   "execution_count": 11,
   "metadata": {},
   "outputs": [
    {
     "data": {
      "text/html": [
       "<div>\n",
       "<style scoped>\n",
       "    .dataframe tbody tr th:only-of-type {\n",
       "        vertical-align: middle;\n",
       "    }\n",
       "\n",
       "    .dataframe tbody tr th {\n",
       "        vertical-align: top;\n",
       "    }\n",
       "\n",
       "    .dataframe thead th {\n",
       "        text-align: right;\n",
       "    }\n",
       "</style>\n",
       "<table border=\"1\" class=\"dataframe\">\n",
       "  <thead>\n",
       "    <tr style=\"text-align: right;\">\n",
       "      <th></th>\n",
       "      <th>pickup_hour</th>\n",
       "      <th>target</th>\n",
       "      <th>lag_1</th>\n",
       "      <th>lag_2</th>\n",
       "      <th>lag_3</th>\n",
       "      <th>lag_4</th>\n",
       "      <th>lag_5</th>\n",
       "      <th>lag_6</th>\n",
       "      <th>lag_7</th>\n",
       "      <th>lag_8</th>\n",
       "      <th>...</th>\n",
       "      <th>lag_43</th>\n",
       "      <th>lag_44</th>\n",
       "      <th>lag_45</th>\n",
       "      <th>lag_46</th>\n",
       "      <th>lag_47</th>\n",
       "      <th>lag_48</th>\n",
       "      <th>hour</th>\n",
       "      <th>dayofweek</th>\n",
       "      <th>is_weekend</th>\n",
       "      <th>location_id</th>\n",
       "    </tr>\n",
       "  </thead>\n",
       "  <tbody>\n",
       "    <tr>\n",
       "      <th>0</th>\n",
       "      <td>2024-01-03 00:00:00</td>\n",
       "      <td>0</td>\n",
       "      <td>1.0</td>\n",
       "      <td>0.0</td>\n",
       "      <td>1.0</td>\n",
       "      <td>1.0</td>\n",
       "      <td>10.0</td>\n",
       "      <td>18.0</td>\n",
       "      <td>20.0</td>\n",
       "      <td>12.0</td>\n",
       "      <td>...</td>\n",
       "      <td>0.0</td>\n",
       "      <td>2.0</td>\n",
       "      <td>2.0</td>\n",
       "      <td>20.0</td>\n",
       "      <td>5.0</td>\n",
       "      <td>5.0</td>\n",
       "      <td>0</td>\n",
       "      <td>2</td>\n",
       "      <td>0</td>\n",
       "      <td>HB102</td>\n",
       "    </tr>\n",
       "    <tr>\n",
       "      <th>1</th>\n",
       "      <td>2024-01-03 01:00:00</td>\n",
       "      <td>0</td>\n",
       "      <td>0.0</td>\n",
       "      <td>1.0</td>\n",
       "      <td>0.0</td>\n",
       "      <td>1.0</td>\n",
       "      <td>1.0</td>\n",
       "      <td>10.0</td>\n",
       "      <td>18.0</td>\n",
       "      <td>20.0</td>\n",
       "      <td>...</td>\n",
       "      <td>0.0</td>\n",
       "      <td>0.0</td>\n",
       "      <td>2.0</td>\n",
       "      <td>2.0</td>\n",
       "      <td>20.0</td>\n",
       "      <td>5.0</td>\n",
       "      <td>1</td>\n",
       "      <td>2</td>\n",
       "      <td>0</td>\n",
       "      <td>HB102</td>\n",
       "    </tr>\n",
       "    <tr>\n",
       "      <th>2</th>\n",
       "      <td>2024-01-03 02:00:00</td>\n",
       "      <td>0</td>\n",
       "      <td>0.0</td>\n",
       "      <td>0.0</td>\n",
       "      <td>1.0</td>\n",
       "      <td>0.0</td>\n",
       "      <td>1.0</td>\n",
       "      <td>1.0</td>\n",
       "      <td>10.0</td>\n",
       "      <td>18.0</td>\n",
       "      <td>...</td>\n",
       "      <td>0.0</td>\n",
       "      <td>0.0</td>\n",
       "      <td>0.0</td>\n",
       "      <td>2.0</td>\n",
       "      <td>2.0</td>\n",
       "      <td>20.0</td>\n",
       "      <td>2</td>\n",
       "      <td>2</td>\n",
       "      <td>0</td>\n",
       "      <td>HB102</td>\n",
       "    </tr>\n",
       "    <tr>\n",
       "      <th>3</th>\n",
       "      <td>2024-01-03 03:00:00</td>\n",
       "      <td>0</td>\n",
       "      <td>0.0</td>\n",
       "      <td>0.0</td>\n",
       "      <td>0.0</td>\n",
       "      <td>1.0</td>\n",
       "      <td>0.0</td>\n",
       "      <td>1.0</td>\n",
       "      <td>1.0</td>\n",
       "      <td>10.0</td>\n",
       "      <td>...</td>\n",
       "      <td>0.0</td>\n",
       "      <td>0.0</td>\n",
       "      <td>0.0</td>\n",
       "      <td>0.0</td>\n",
       "      <td>2.0</td>\n",
       "      <td>2.0</td>\n",
       "      <td>3</td>\n",
       "      <td>2</td>\n",
       "      <td>0</td>\n",
       "      <td>HB102</td>\n",
       "    </tr>\n",
       "    <tr>\n",
       "      <th>4</th>\n",
       "      <td>2024-01-03 04:00:00</td>\n",
       "      <td>0</td>\n",
       "      <td>0.0</td>\n",
       "      <td>0.0</td>\n",
       "      <td>0.0</td>\n",
       "      <td>0.0</td>\n",
       "      <td>1.0</td>\n",
       "      <td>0.0</td>\n",
       "      <td>1.0</td>\n",
       "      <td>1.0</td>\n",
       "      <td>...</td>\n",
       "      <td>1.0</td>\n",
       "      <td>0.0</td>\n",
       "      <td>0.0</td>\n",
       "      <td>0.0</td>\n",
       "      <td>0.0</td>\n",
       "      <td>2.0</td>\n",
       "      <td>4</td>\n",
       "      <td>2</td>\n",
       "      <td>0</td>\n",
       "      <td>HB102</td>\n",
       "    </tr>\n",
       "  </tbody>\n",
       "</table>\n",
       "<p>5 rows × 54 columns</p>\n",
       "</div>"
      ],
      "text/plain": [
       "          pickup_hour  target  lag_1  lag_2  lag_3  lag_4  lag_5  lag_6  \\\n",
       "0 2024-01-03 00:00:00       0    1.0    0.0    1.0    1.0   10.0   18.0   \n",
       "1 2024-01-03 01:00:00       0    0.0    1.0    0.0    1.0    1.0   10.0   \n",
       "2 2024-01-03 02:00:00       0    0.0    0.0    1.0    0.0    1.0    1.0   \n",
       "3 2024-01-03 03:00:00       0    0.0    0.0    0.0    1.0    0.0    1.0   \n",
       "4 2024-01-03 04:00:00       0    0.0    0.0    0.0    0.0    1.0    0.0   \n",
       "\n",
       "   lag_7  lag_8  ...  lag_43  lag_44  lag_45  lag_46  lag_47  lag_48  hour  \\\n",
       "0   20.0   12.0  ...     0.0     2.0     2.0    20.0     5.0     5.0     0   \n",
       "1   18.0   20.0  ...     0.0     0.0     2.0     2.0    20.0     5.0     1   \n",
       "2   10.0   18.0  ...     0.0     0.0     0.0     2.0     2.0    20.0     2   \n",
       "3    1.0   10.0  ...     0.0     0.0     0.0     0.0     2.0     2.0     3   \n",
       "4    1.0    1.0  ...     1.0     0.0     0.0     0.0     0.0     2.0     4   \n",
       "\n",
       "   dayofweek  is_weekend  location_id  \n",
       "0          2           0        HB102  \n",
       "1          2           0        HB102  \n",
       "2          2           0        HB102  \n",
       "3          2           0        HB102  \n",
       "4          2           0        HB102  \n",
       "\n",
       "[5 rows x 54 columns]"
      ]
     },
     "execution_count": 11,
     "metadata": {},
     "output_type": "execute_result"
    }
   ],
   "source": [
    "# Imports\n",
    "import pandas as pd\n",
    "import numpy as np\n",
    "from lightgbm import LGBMRegressor\n",
    "from sklearn.metrics import mean_absolute_error, mean_squared_error\n",
    "from sklearn.model_selection import train_test_split\n",
    "\n",
    "# Load the feature files for the top 3 locations\n",
    "locations = [\"HB102\", \"JC115\", \"HB105\"]\n",
    "dfs = []\n",
    "\n",
    "for loc in locations:\n",
    "    path = f\"../data/features/{loc}.csv\"\n",
    "    df = pd.read_csv(path, index_col=\"pickup_hour\")  # read with pickup_hour as index\n",
    "    df.index = pd.to_datetime(df.index)\n",
    "    df = df.reset_index()  # move pickup_hour into column\n",
    "    df[\"location_id\"] = loc\n",
    "    dfs.append(df)\n",
    "\n",
    "# Combine into a single DataFrame\n",
    "df_all = pd.concat(dfs).reset_index(drop=True)\n",
    "df_all.head()\n"
   ]
  },
  {
   "cell_type": "code",
   "execution_count": 14,
   "metadata": {},
   "outputs": [
    {
     "name": "stdout",
     "output_type": "stream",
     "text": [
      "[LightGBM] [Info] Auto-choosing row-wise multi-threading, the overhead of testing was 0.000799 seconds.\n",
      "You can set `force_row_wise=true` to remove the overhead.\n",
      "And if memory is not enough, you can set `force_col_wise=true`.\n",
      "[LightGBM] [Info] Total Bins 3249\n",
      "[LightGBM] [Info] Number of data points in the train set: 20880, number of used features: 51\n",
      "[LightGBM] [Info] Start training from score 5.167720\n"
     ]
    }
   ],
   "source": [
    "# Drop non-numeric columns\n",
    "X = df_all.drop(columns=[\"target\", \"pickup_hour\", \"location_id\"])  # drop object column\n",
    "y = df_all[\"target\"]\n",
    "\n",
    "# Train-test split (80% train, 20% test)\n",
    "X_train, X_test, y_train, y_test = train_test_split(X, y, test_size=0.2, shuffle=False)\n",
    "\n",
    "# Train LightGBM model\n",
    "model = LGBMRegressor()\n",
    "model.fit(X_train, y_train)\n",
    "\n",
    "# Predict\n",
    "y_pred = model.predict(X_test)\n"
   ]
  },
  {
   "cell_type": "code",
   "execution_count": 15,
   "metadata": {},
   "outputs": [
    {
     "name": "stdout",
     "output_type": "stream",
     "text": [
      "[LightGBM] [Info] Auto-choosing row-wise multi-threading, the overhead of testing was 0.000623 seconds.\n",
      "You can set `force_row_wise=true` to remove the overhead.\n",
      "And if memory is not enough, you can set `force_col_wise=true`.\n",
      "[LightGBM] [Info] Total Bins 3249\n",
      "[LightGBM] [Info] Number of data points in the train set: 20880, number of used features: 51\n",
      "[LightGBM] [Info] Start training from score 5.167720\n"
     ]
    }
   ],
   "source": [
    "# Train the model on all features\n",
    "model = LGBMRegressor()\n",
    "model.fit(X_train, y_train)\n",
    "\n",
    "# Predict\n",
    "y_pred = model.predict(X_test)\n"
   ]
  },
  {
   "cell_type": "code",
   "execution_count": 16,
   "metadata": {},
   "outputs": [
    {
     "name": "stdout",
     "output_type": "stream",
     "text": [
      "✅ LightGBM (All Features) MAE: 1.8343\n",
      "✅ LightGBM (All Features) RMSE: 2.718\n"
     ]
    }
   ],
   "source": [
    "from sklearn.metrics import mean_absolute_error, mean_squared_error\n",
    "import numpy as np\n",
    "\n",
    "# Evaluate\n",
    "mae = mean_absolute_error(y_test, y_pred)\n",
    "rmse = np.sqrt(mean_squared_error(y_test, y_pred))\n",
    "\n",
    "# Display results\n",
    "print(\"✅ LightGBM (All Features) MAE:\", round(mae, 4))\n",
    "print(\"✅ LightGBM (All Features) RMSE:\", round(rmse, 4))\n"
   ]
  },
  {
   "cell_type": "code",
   "execution_count": 17,
   "metadata": {},
   "outputs": [
    {
     "name": "stdout",
     "output_type": "stream",
     "text": [
      "✅ LightGBM Model 2 MAE logged to DagsHub MLflow.\n",
      "🏃 View run Model 2 - LightGBM (Full Lag Features) at: https://dagshub.com/sai-snehitha/citi-bike-prediction-system.mlflow/#/experiments/1/runs/279136f183bb41e3b0135ed1cf6a38b9\n",
      "🧪 View experiment at: https://dagshub.com/sai-snehitha/citi-bike-prediction-system.mlflow/#/experiments/1\n"
     ]
    }
   ],
   "source": [
    "import mlflow\n",
    "import os\n",
    "\n",
    "# ✅ Set credentials (same as before)\n",
    "os.environ[\"MLFLOW_TRACKING_USERNAME\"] = \"sai-snehitha\"\n",
    "os.environ[\"MLFLOW_TRACKING_PASSWORD\"] = \"546ba070a0d146826c8d49111843d556196bcf9a\"\n",
    "\n",
    "# ✅ Set MLflow tracking\n",
    "mlflow.set_tracking_uri(\"https://dagshub.com/sai-snehitha/citi-bike-prediction-system.mlflow\")\n",
    "mlflow.set_experiment(\"citi-bike-project\")\n",
    "\n",
    "# ✅ Log the MAE for Model 2 (replace with actual value if different)\n",
    "with mlflow.start_run(run_name=\"Model 2 - LightGBM (Full Lag Features)\"):\n",
    "    mlflow.log_metric(\"mae\", 1.8343)  \n",
    "    print(\"✅ LightGBM Model 2 MAE logged to DagsHub MLflow.\")\n"
   ]
  },
  {
   "cell_type": "code",
   "execution_count": 19,
   "metadata": {},
   "outputs": [
    {
     "name": "stdout",
     "output_type": "stream",
     "text": [
      "[LightGBM] [Info] Auto-choosing row-wise multi-threading, the overhead of testing was 0.000751 seconds.\n",
      "You can set `force_row_wise=true` to remove the overhead.\n",
      "And if memory is not enough, you can set `force_col_wise=true`.\n",
      "[LightGBM] [Info] Total Bins 3249\n",
      "[LightGBM] [Info] Number of data points in the train set: 20880, number of used features: 51\n",
      "[LightGBM] [Info] Start training from score 5.167720\n"
     ]
    },
    {
     "name": "stderr",
     "output_type": "stream",
     "text": [
      "\u001b[31m2025/05/08 20:19:48 WARNING mlflow.models.model: Model logged without a signature and input example. Please set `input_example` parameter when logging the model to auto infer the model signature.\u001b[0m\n",
      "Registered model 'citi_bike_best_model' already exists. Creating a new version of this model...\n",
      "2025/05/08 20:19:52 INFO mlflow.store.model_registry.abstract_store: Waiting up to 300 seconds for model version to finish creation. Model name: citi_bike_best_model, version 2\n",
      "Created version '2' of model 'citi_bike_best_model'.\n"
     ]
    },
    {
     "name": "stdout",
     "output_type": "stream",
     "text": [
      "🏃 View run hilarious-midge-354 at: https://dagshub.com/sai-snehitha/citi-bike-prediction-system.mlflow/#/experiments/1/runs/b8ab4ce4452344ec8abde135b1b984c2\n",
      "🧪 View experiment at: https://dagshub.com/sai-snehitha/citi-bike-prediction-system.mlflow/#/experiments/1\n",
      "✅ Registered Model 2 as citi_bike_best_model\n"
     ]
    }
   ],
   "source": [
    "import mlflow\n",
    "import lightgbm as lgb  # ✅ Add this\n",
    "\n",
    "with mlflow.start_run():\n",
    "    model = lgb.LGBMRegressor()\n",
    "    model.fit(X_train, y_train)\n",
    "\n",
    "    y_pred = model.predict(X_test)\n",
    "    mae = mean_absolute_error(y_test, y_pred)\n",
    "\n",
    "    mlflow.log_metric(\"mae\", mae)\n",
    "\n",
    "    # ✅ Register this as the best model\n",
    "    mlflow.sklearn.log_model(\n",
    "        sk_model=model,\n",
    "        artifact_path=\"model\",\n",
    "        registered_model_name=\"citi_bike_best_model\"\n",
    "    )\n",
    "\n",
    "print(\"✅ Registered Model 2 as citi_bike_best_model\")\n"
   ]
  },
  {
   "cell_type": "code",
   "execution_count": 20,
   "metadata": {},
   "outputs": [
    {
     "name": "stdout",
     "output_type": "stream",
     "text": [
      "[LightGBM] [Info] Auto-choosing row-wise multi-threading, the overhead of testing was 0.000659 seconds.\n",
      "You can set `force_row_wise=true` to remove the overhead.\n",
      "And if memory is not enough, you can set `force_col_wise=true`.\n",
      "[LightGBM] [Info] Total Bins 3249\n",
      "[LightGBM] [Info] Number of data points in the train set: 20880, number of used features: 51\n",
      "[LightGBM] [Info] Start training from score 5.167720\n"
     ]
    },
    {
     "name": "stderr",
     "output_type": "stream",
     "text": [
      "\u001b[31m2025/05/08 20:32:20 WARNING mlflow.models.model: Model logged without a signature and input example. Please set `input_example` parameter when logging the model to auto infer the model signature.\u001b[0m\n",
      "Registered model 'citi_bike_best_model' already exists. Creating a new version of this model...\n",
      "2025/05/08 20:32:24 INFO mlflow.store.model_registry.abstract_store: Waiting up to 300 seconds for model version to finish creation. Model name: citi_bike_best_model, version 3\n",
      "Created version '3' of model 'citi_bike_best_model'.\n"
     ]
    },
    {
     "name": "stdout",
     "output_type": "stream",
     "text": [
      "✅ Registered Model 2 as citi_bike_best_model\n",
      "🏃 View run sincere-ray-250 at: https://dagshub.com/sai-snehitha/citi-bike-prediction-system.mlflow/#/experiments/1/runs/b8e72f9a9ae64e8d9d28ca009dfdb9ba\n",
      "🧪 View experiment at: https://dagshub.com/sai-snehitha/citi-bike-prediction-system.mlflow/#/experiments/1\n"
     ]
    }
   ],
   "source": [
    "import mlflow\n",
    "import lightgbm as lgb\n",
    "from sklearn.metrics import mean_absolute_error\n",
    "\n",
    "mlflow.set_tracking_uri(\"https://dagshub.com/sai-snehitha/citi-bike-prediction-system.mlflow\")\n",
    "mlflow.set_registry_uri(\"https://dagshub.com/sai-snehitha/citi-bike-prediction-system.mlflow\")\n",
    "\n",
    "with mlflow.start_run() as run:\n",
    "    model = lgb.LGBMRegressor()\n",
    "    model.fit(X_train, y_train)\n",
    "    \n",
    "    y_pred = model.predict(X_test)\n",
    "    mae = mean_absolute_error(y_test, y_pred)\n",
    "    \n",
    "    mlflow.log_metric(\"mae\", mae)\n",
    "\n",
    "    # ✅ Register this as \"best model\"\n",
    "    mlflow.sklearn.log_model(\n",
    "        sk_model=model,\n",
    "        artifact_path=\"model\",\n",
    "        registered_model_name=\"citi_bike_best_model\"\n",
    "    )\n",
    "\n",
    "    print(\"✅ Registered Model 2 as citi_bike_best_model\")\n"
   ]
  },
  {
   "cell_type": "code",
   "execution_count": 21,
   "metadata": {},
   "outputs": [
    {
     "name": "stdout",
     "output_type": "stream",
     "text": [
      "[LightGBM] [Info] Auto-choosing row-wise multi-threading, the overhead of testing was 0.000789 seconds.\n",
      "You can set `force_row_wise=true` to remove the overhead.\n",
      "And if memory is not enough, you can set `force_col_wise=true`.\n",
      "[LightGBM] [Info] Total Bins 3249\n",
      "[LightGBM] [Info] Number of data points in the train set: 20880, number of used features: 51\n",
      "[LightGBM] [Info] Start training from score 5.167720\n"
     ]
    },
    {
     "name": "stderr",
     "output_type": "stream",
     "text": [
      "/Users/snehitha/citi_bike_project/venv/lib/python3.10/site-packages/mlflow/types/utils.py:452: UserWarning: Hint: Inferred schema contains integer column(s). Integer columns in Python cannot represent missing values. If your input data contains missing values at inference time, it will be encoded as floats and will cause a schema enforcement error. The best way to avoid this problem is to infer the model schema based on a realistic data sample (training dataset) that includes missing values. Alternatively, you can declare integer columns as doubles (float64) whenever these columns may have missing values. See `Handling Integers With Missing Values <https://www.mlflow.org/docs/latest/models.html#handling-integers-with-missing-values>`_ for more details.\n",
      "  warnings.warn(\n",
      "Registered model 'citi_bike_best_model' already exists. Creating a new version of this model...\n",
      "2025/05/08 20:35:52 INFO mlflow.store.model_registry.abstract_store: Waiting up to 300 seconds for model version to finish creation. Model name: citi_bike_best_model, version 4\n",
      "Created version '4' of model 'citi_bike_best_model'.\n"
     ]
    },
    {
     "name": "stdout",
     "output_type": "stream",
     "text": [
      "🏃 View run spiffy-zebra-197 at: https://dagshub.com/sai-snehitha/citi-bike-prediction-system.mlflow/#/experiments/1/runs/ba6c0904173d4ff3b3ffa2ab08cbae5c\n",
      "🧪 View experiment at: https://dagshub.com/sai-snehitha/citi-bike-prediction-system.mlflow/#/experiments/1\n",
      "✅ Re-registered correct model with signature.\n"
     ]
    }
   ],
   "source": [
    "import mlflow\n",
    "import lightgbm as lgb\n",
    "import pandas as pd\n",
    "from sklearn.metrics import mean_absolute_error\n",
    "\n",
    "with mlflow.start_run():\n",
    "    model = lgb.LGBMRegressor()\n",
    "    model.fit(X_train, y_train)\n",
    "    y_pred = model.predict(X_test)\n",
    "    mae = mean_absolute_error(y_test, y_pred)\n",
    "\n",
    "    mlflow.log_metric(\"mae\", mae)\n",
    "\n",
    "    # ✅ Prepare input_example and signature\n",
    "    input_example = X_test.iloc[:2]\n",
    "    from mlflow.models.signature import infer_signature\n",
    "    signature = infer_signature(X_test, y_pred)\n",
    "\n",
    "    # ✅ Re-register model with full metadata\n",
    "    mlflow.sklearn.log_model(\n",
    "        sk_model=model,\n",
    "        artifact_path=\"model\",\n",
    "        registered_model_name=\"citi_bike_best_model\",\n",
    "        input_example=input_example,\n",
    "        signature=signature\n",
    "    )\n",
    "\n",
    "print(\"✅ Re-registered correct model with signature.\")\n"
   ]
  },
  {
   "cell_type": "code",
   "execution_count": 22,
   "metadata": {},
   "outputs": [
    {
     "name": "stdout",
     "output_type": "stream",
     "text": [
      "📊 LightGBM Full MAE for HB102: 1.8343\n",
      "🏃 View run Full_LGBM - HB102 at: https://dagshub.com/sai-snehitha/citi-bike-prediction-system.mlflow/#/experiments/1/runs/21f973c601064bec8a32e10a8fbf62c9\n",
      "🧪 View experiment at: https://dagshub.com/sai-snehitha/citi-bike-prediction-system.mlflow/#/experiments/1\n",
      "📊 LightGBM Full MAE for HB105: 1.8343\n",
      "🏃 View run Full_LGBM - HB105 at: https://dagshub.com/sai-snehitha/citi-bike-prediction-system.mlflow/#/experiments/1/runs/193b3adead224af3a28e76d96b8bdbbe\n",
      "🧪 View experiment at: https://dagshub.com/sai-snehitha/citi-bike-prediction-system.mlflow/#/experiments/1\n",
      "📊 LightGBM Full MAE for JC115: 1.8343\n",
      "🏃 View run Full_LGBM - JC115 at: https://dagshub.com/sai-snehitha/citi-bike-prediction-system.mlflow/#/experiments/1/runs/ab41052747114dfe9a122163ea56878e\n",
      "🧪 View experiment at: https://dagshub.com/sai-snehitha/citi-bike-prediction-system.mlflow/#/experiments/1\n"
     ]
    }
   ],
   "source": [
    "import mlflow\n",
    "import os\n",
    "\n",
    "# Set MLflow DagsHub credentials if not already set\n",
    "os.environ[\"MLFLOW_TRACKING_USERNAME\"] = \"sai-snehitha\"\n",
    "os.environ[\"MLFLOW_TRACKING_PASSWORD\"] = \"546ba070a0d146826c8d49111843d556196bcf9a\"  # replace if expired\n",
    "\n",
    "# Set MLflow tracking URI and experiment\n",
    "mlflow.set_tracking_uri(\"https://dagshub.com/sai-snehitha/citi-bike-prediction-system.mlflow\")\n",
    "mlflow.set_experiment(\"citi-bike-project\")\n",
    "\n",
    "# Loop through locations (if not already inside one)\n",
    "for location in [\"HB102\", \"HB105\", \"JC115\"]:\n",
    "    # (Assuming you’ve already trained model, made predictions, computed mae here)\n",
    "    \n",
    "    # Example if re-computing:\n",
    "    # X = ...\n",
    "    # y = ...\n",
    "    # y_pred = model.predict(X_test)\n",
    "    # mae = mean_absolute_error(y_test, y_pred)\n",
    "\n",
    "    print(f\"📊 LightGBM Full MAE for {location}: {mae:.4f}\")\n",
    "\n",
    "    with mlflow.start_run(run_name=f\"Full_LGBM - {location}\"):\n",
    "        mlflow.set_tag(\"model_type\", \"Full_LGBM\")\n",
    "        mlflow.set_tag(\"location_id\", location)\n",
    "        mlflow.log_metric(\"mae\", mae)\n"
   ]
  }
 ],
 "metadata": {
  "kernelspec": {
   "display_name": "venv",
   "language": "python",
   "name": "python3"
  },
  "language_info": {
   "codemirror_mode": {
    "name": "ipython",
    "version": 3
   },
   "file_extension": ".py",
   "mimetype": "text/x-python",
   "name": "python",
   "nbconvert_exporter": "python",
   "pygments_lexer": "ipython3",
   "version": "3.10.16"
  }
 },
 "nbformat": 4,
 "nbformat_minor": 2
}
