{
 "cells": [
  {
   "cell_type": "code",
   "execution_count": 1,
   "metadata": {},
   "outputs": [
    {
     "name": "stderr",
     "output_type": "stream",
     "text": [
      "/Users/snehitha/citi_bike_project/venv/lib/python3.10/site-packages/tqdm/auto.py:21: TqdmWarning: IProgress not found. Please update jupyter and ipywidgets. See https://ipywidgets.readthedocs.io/en/stable/user_install.html\n",
      "  from .autonotebook import tqdm as notebook_tqdm\n"
     ]
    },
    {
     "name": "stdout",
     "output_type": "stream",
     "text": [
      "2025-05-03 20:34:31,863 INFO: Initializing external client\n",
      "2025-05-03 20:34:31,863 INFO: Base URL: https://c.app.hopsworks.ai:443\n",
      "2025-05-03 20:34:33,110 INFO: Python Engine initialized.\n",
      "\n",
      "Logged in to project, explore it here https://c.app.hopsworks.ai:443/p/1215691\n",
      "✅ Logged into Hopsworks and imported libraries.\n"
     ]
    }
   ],
   "source": [
    "# Step 1: Import necessary libraries and login to Hopsworks\n",
    "import hopsworks\n",
    "import pandas as pd\n",
    "import matplotlib.pyplot as plt\n",
    "from sklearn.metrics import mean_absolute_error, mean_absolute_percentage_error\n",
    "\n",
    "project = hopsworks.login()\n",
    "fs = project.get_feature_store()\n",
    "\n",
    "print(\"✅ Logged into Hopsworks and imported libraries.\")\n"
   ]
  },
  {
   "cell_type": "code",
   "execution_count": 2,
   "metadata": {},
   "outputs": [
    {
     "name": "stdout",
     "output_type": "stream",
     "text": [
      "Finished: Reading data from Hopsworks, using Hopsworks Feature Query Service (2.62s) \n"
     ]
    },
    {
     "data": {
      "text/html": [
       "<div>\n",
       "<style scoped>\n",
       "    .dataframe tbody tr th:only-of-type {\n",
       "        vertical-align: middle;\n",
       "    }\n",
       "\n",
       "    .dataframe tbody tr th {\n",
       "        vertical-align: top;\n",
       "    }\n",
       "\n",
       "    .dataframe thead th {\n",
       "        text-align: right;\n",
       "    }\n",
       "</style>\n",
       "<table border=\"1\" class=\"dataframe\">\n",
       "  <thead>\n",
       "    <tr style=\"text-align: right;\">\n",
       "      <th></th>\n",
       "      <th>pickup_hour</th>\n",
       "      <th>target</th>\n",
       "      <th>lag_1</th>\n",
       "      <th>lag_2</th>\n",
       "      <th>lag_3</th>\n",
       "      <th>lag_4</th>\n",
       "      <th>lag_5</th>\n",
       "      <th>lag_6</th>\n",
       "      <th>lag_7</th>\n",
       "      <th>lag_8</th>\n",
       "      <th>...</th>\n",
       "      <th>lag_20</th>\n",
       "      <th>lag_21</th>\n",
       "      <th>lag_22</th>\n",
       "      <th>lag_23</th>\n",
       "      <th>lag_24</th>\n",
       "      <th>lag_25</th>\n",
       "      <th>lag_26</th>\n",
       "      <th>lag_27</th>\n",
       "      <th>lag_28</th>\n",
       "      <th>location_id</th>\n",
       "    </tr>\n",
       "  </thead>\n",
       "  <tbody>\n",
       "    <tr>\n",
       "      <th>0</th>\n",
       "      <td>2024-04-16 18:00:00+00:00</td>\n",
       "      <td>29.0</td>\n",
       "      <td>32.0</td>\n",
       "      <td>14.0</td>\n",
       "      <td>10.0</td>\n",
       "      <td>10.0</td>\n",
       "      <td>6.0</td>\n",
       "      <td>3.0</td>\n",
       "      <td>3.0</td>\n",
       "      <td>2.0</td>\n",
       "      <td>...</td>\n",
       "      <td>4.0</td>\n",
       "      <td>11.0</td>\n",
       "      <td>18.0</td>\n",
       "      <td>32.0</td>\n",
       "      <td>24.0</td>\n",
       "      <td>13.0</td>\n",
       "      <td>5.0</td>\n",
       "      <td>4.0</td>\n",
       "      <td>6.0</td>\n",
       "      <td>JC115</td>\n",
       "    </tr>\n",
       "    <tr>\n",
       "      <th>1</th>\n",
       "      <td>2024-05-21 12:00:00+00:00</td>\n",
       "      <td>5.0</td>\n",
       "      <td>2.0</td>\n",
       "      <td>1.0</td>\n",
       "      <td>7.0</td>\n",
       "      <td>8.0</td>\n",
       "      <td>3.0</td>\n",
       "      <td>1.0</td>\n",
       "      <td>1.0</td>\n",
       "      <td>0.0</td>\n",
       "      <td>...</td>\n",
       "      <td>21.0</td>\n",
       "      <td>9.0</td>\n",
       "      <td>4.0</td>\n",
       "      <td>4.0</td>\n",
       "      <td>5.0</td>\n",
       "      <td>5.0</td>\n",
       "      <td>2.0</td>\n",
       "      <td>3.0</td>\n",
       "      <td>5.0</td>\n",
       "      <td>HB102</td>\n",
       "    </tr>\n",
       "    <tr>\n",
       "      <th>2</th>\n",
       "      <td>2024-04-10 01:00:00+00:00</td>\n",
       "      <td>0.0</td>\n",
       "      <td>0.0</td>\n",
       "      <td>1.0</td>\n",
       "      <td>2.0</td>\n",
       "      <td>6.0</td>\n",
       "      <td>8.0</td>\n",
       "      <td>7.0</td>\n",
       "      <td>29.0</td>\n",
       "      <td>28.0</td>\n",
       "      <td>...</td>\n",
       "      <td>0.0</td>\n",
       "      <td>1.0</td>\n",
       "      <td>0.0</td>\n",
       "      <td>0.0</td>\n",
       "      <td>0.0</td>\n",
       "      <td>1.0</td>\n",
       "      <td>1.0</td>\n",
       "      <td>4.0</td>\n",
       "      <td>6.0</td>\n",
       "      <td>JC115</td>\n",
       "    </tr>\n",
       "    <tr>\n",
       "      <th>3</th>\n",
       "      <td>2024-12-15 12:00:00+00:00</td>\n",
       "      <td>3.0</td>\n",
       "      <td>3.0</td>\n",
       "      <td>5.0</td>\n",
       "      <td>2.0</td>\n",
       "      <td>0.0</td>\n",
       "      <td>0.0</td>\n",
       "      <td>2.0</td>\n",
       "      <td>0.0</td>\n",
       "      <td>0.0</td>\n",
       "      <td>...</td>\n",
       "      <td>5.0</td>\n",
       "      <td>5.0</td>\n",
       "      <td>2.0</td>\n",
       "      <td>6.0</td>\n",
       "      <td>4.0</td>\n",
       "      <td>1.0</td>\n",
       "      <td>4.0</td>\n",
       "      <td>2.0</td>\n",
       "      <td>1.0</td>\n",
       "      <td>HB105</td>\n",
       "    </tr>\n",
       "    <tr>\n",
       "      <th>4</th>\n",
       "      <td>2024-04-08 08:00:00+00:00</td>\n",
       "      <td>3.0</td>\n",
       "      <td>2.0</td>\n",
       "      <td>1.0</td>\n",
       "      <td>0.0</td>\n",
       "      <td>0.0</td>\n",
       "      <td>0.0</td>\n",
       "      <td>0.0</td>\n",
       "      <td>0.0</td>\n",
       "      <td>0.0</td>\n",
       "      <td>...</td>\n",
       "      <td>3.0</td>\n",
       "      <td>1.0</td>\n",
       "      <td>0.0</td>\n",
       "      <td>1.0</td>\n",
       "      <td>0.0</td>\n",
       "      <td>1.0</td>\n",
       "      <td>0.0</td>\n",
       "      <td>0.0</td>\n",
       "      <td>1.0</td>\n",
       "      <td>HB105</td>\n",
       "    </tr>\n",
       "  </tbody>\n",
       "</table>\n",
       "<p>5 rows × 31 columns</p>\n",
       "</div>"
      ],
      "text/plain": [
       "                pickup_hour  target  lag_1  lag_2  lag_3  lag_4  lag_5  lag_6  \\\n",
       "0 2024-04-16 18:00:00+00:00    29.0   32.0   14.0   10.0   10.0    6.0    3.0   \n",
       "1 2024-05-21 12:00:00+00:00     5.0    2.0    1.0    7.0    8.0    3.0    1.0   \n",
       "2 2024-04-10 01:00:00+00:00     0.0    0.0    1.0    2.0    6.0    8.0    7.0   \n",
       "3 2024-12-15 12:00:00+00:00     3.0    3.0    5.0    2.0    0.0    0.0    2.0   \n",
       "4 2024-04-08 08:00:00+00:00     3.0    2.0    1.0    0.0    0.0    0.0    0.0   \n",
       "\n",
       "   lag_7  lag_8  ...  lag_20  lag_21  lag_22  lag_23  lag_24  lag_25  lag_26  \\\n",
       "0    3.0    2.0  ...     4.0    11.0    18.0    32.0    24.0    13.0     5.0   \n",
       "1    1.0    0.0  ...    21.0     9.0     4.0     4.0     5.0     5.0     2.0   \n",
       "2   29.0   28.0  ...     0.0     1.0     0.0     0.0     0.0     1.0     1.0   \n",
       "3    0.0    0.0  ...     5.0     5.0     2.0     6.0     4.0     1.0     4.0   \n",
       "4    0.0    0.0  ...     3.0     1.0     0.0     1.0     0.0     1.0     0.0   \n",
       "\n",
       "   lag_27  lag_28  location_id  \n",
       "0     4.0     6.0        JC115  \n",
       "1     3.0     5.0        HB102  \n",
       "2     4.0     6.0        JC115  \n",
       "3     2.0     1.0        HB105  \n",
       "4     0.0     1.0        HB105  \n",
       "\n",
       "[5 rows x 31 columns]"
      ]
     },
     "execution_count": 2,
     "metadata": {},
     "output_type": "execute_result"
    }
   ],
   "source": [
    "# Step 2: Load the feature group data\n",
    "feature_group = fs.get_feature_group(\n",
    "    name=\"citi_bike_features_group\",\n",
    "    version=1\n",
    ")\n",
    "\n",
    "df = feature_group.read()\n",
    "df.head()\n"
   ]
  },
  {
   "cell_type": "code",
   "execution_count": 3,
   "metadata": {},
   "outputs": [
    {
     "name": "stdout",
     "output_type": "stream",
     "text": [
      "✅ Training samples: 24015\n",
      "✅ Testing samples: 2145\n"
     ]
    }
   ],
   "source": [
    "#Preprocess and Train/Test Split\n",
    "# Step 3: Preprocess and create train-test split\n",
    "\n",
    "# Convert pickup_hour to datetime\n",
    "df[\"pickup_hour\"] = pd.to_datetime(df[\"pickup_hour\"])\n",
    "\n",
    "# Sort values to ensure time order\n",
    "df = df.sort_values([\"location_id\", \"pickup_hour\"])\n",
    "\n",
    "# Define cutoff for test set (e.g., last 30 days)\n",
    "cutoff = df[\"pickup_hour\"].max() - pd.Timedelta(days=30)\n",
    "train_df = df[df[\"pickup_hour\"] <= cutoff].copy()\n",
    "test_df = df[df[\"pickup_hour\"] > cutoff].copy()\n",
    "\n",
    "print(f\"✅ Training samples: {len(train_df)}\")\n",
    "print(f\"✅ Testing samples: {len(test_df)}\")\n"
   ]
  },
  {
   "cell_type": "code",
   "execution_count": 4,
   "metadata": {},
   "outputs": [
    {
     "name": "stdout",
     "output_type": "stream",
     "text": [
      "✅ Baseline Model - MAE: 2.13\n",
      "✅ Baseline Model - MAPE: 76.38%\n"
     ]
    }
   ],
   "source": [
    "import numpy as np\n",
    "from sklearn.metrics import mean_absolute_error\n",
    "\n",
    "y_true = test_df[\"target\"].values\n",
    "y_pred = test_df[\"lag_1\"].values\n",
    "\n",
    "# Calculate MAE\n",
    "mae = mean_absolute_error(y_true, y_pred)\n",
    "\n",
    "# Fix MAPE manually to avoid division by zero\n",
    "non_zero_indices = y_true != 0\n",
    "if non_zero_indices.sum() == 0:\n",
    "    mape = np.nan\n",
    "else:\n",
    "    mape = np.mean(np.abs((y_true[non_zero_indices] - y_pred[non_zero_indices]) / y_true[non_zero_indices])) * 100\n",
    "\n",
    "print(f\"✅ Baseline Model - MAE: {mae:.2f}\")\n",
    "print(f\"✅ Baseline Model - MAPE: {mape:.2f}%\")\n"
   ]
  },
  {
   "cell_type": "code",
   "execution_count": 5,
   "metadata": {},
   "outputs": [
    {
     "name": "stdout",
     "output_type": "stream",
     "text": [
      "2025-05-03 20:34:39,367 INFO: HTTP Request: GET https://dagshub.com/api/v1/user \"HTTP/1.1 200 OK\"\n"
     ]
    },
    {
     "data": {
      "text/html": [
       "<pre style=\"white-space:pre;overflow-x:auto;line-height:normal;font-family:Menlo,'DejaVu Sans Mono',consolas,'Courier New',monospace\">Accessing as sai-snehitha\n",
       "</pre>\n"
      ],
      "text/plain": [
       "Accessing as sai-snehitha\n"
      ]
     },
     "metadata": {},
     "output_type": "display_data"
    },
    {
     "name": "stdout",
     "output_type": "stream",
     "text": [
      "2025-05-03 20:34:39,378 INFO: Accessing as sai-snehitha\n",
      "2025-05-03 20:34:39,671 INFO: HTTP Request: GET https://dagshub.com/api/v1/repos/sai-snehitha/citi-bike-prediction-system \"HTTP/1.1 200 OK\"\n",
      "2025-05-03 20:34:39,913 INFO: HTTP Request: GET https://dagshub.com/api/v1/user \"HTTP/1.1 200 OK\"\n"
     ]
    },
    {
     "data": {
      "text/html": [
       "<pre style=\"white-space:pre;overflow-x:auto;line-height:normal;font-family:Menlo,'DejaVu Sans Mono',consolas,'Courier New',monospace\">Initialized MLflow to track repo <span style=\"color: #008000; text-decoration-color: #008000\">\"sai-snehitha/citi-bike-prediction-system\"</span>\n",
       "</pre>\n"
      ],
      "text/plain": [
       "Initialized MLflow to track repo \u001b[32m\"sai-snehitha/citi-bike-prediction-system\"\u001b[0m\n"
      ]
     },
     "metadata": {},
     "output_type": "display_data"
    },
    {
     "name": "stdout",
     "output_type": "stream",
     "text": [
      "2025-05-03 20:34:39,917 INFO: Initialized MLflow to track repo \"sai-snehitha/citi-bike-prediction-system\"\n"
     ]
    },
    {
     "data": {
      "text/html": [
       "<pre style=\"white-space:pre;overflow-x:auto;line-height:normal;font-family:Menlo,'DejaVu Sans Mono',consolas,'Courier New',monospace\">Repository sai-snehitha/citi-bike-prediction-system initialized!\n",
       "</pre>\n"
      ],
      "text/plain": [
       "Repository sai-snehitha/citi-bike-prediction-system initialized!\n"
      ]
     },
     "metadata": {},
     "output_type": "display_data"
    },
    {
     "name": "stdout",
     "output_type": "stream",
     "text": [
      "2025-05-03 20:34:39,919 INFO: Repository sai-snehitha/citi-bike-prediction-system initialized!\n"
     ]
    }
   ],
   "source": [
    "import dagshub\n",
    "\n",
    "dagshub.init(repo_owner='sai-snehitha',\n",
    "             repo_name='citi-bike-prediction-system',\n",
    "             mlflow=True)\n"
   ]
  },
  {
   "cell_type": "code",
   "execution_count": 6,
   "metadata": {},
   "outputs": [
    {
     "name": "stdout",
     "output_type": "stream",
     "text": [
      "✅ Test run logged to DagsHub MLflow\n",
      "🏃 View run test-logging at: https://dagshub.com/sai-snehitha/citi-bike-prediction-system.mlflow/#/experiments/0/runs/d1e9a765077149bda48368e75f81a4b6\n",
      "🧪 View experiment at: https://dagshub.com/sai-snehitha/citi-bike-prediction-system.mlflow/#/experiments/0\n"
     ]
    }
   ],
   "source": [
    "import mlflow\n",
    "\n",
    "with mlflow.start_run(run_name=\"test-logging\"):\n",
    "    mlflow.log_param(\"test_param\", 123)\n",
    "    mlflow.log_metric(\"test_metric\", 0.95)\n",
    "    print(\"✅ Test run logged to DagsHub MLflow\")\n"
   ]
  },
  {
   "cell_type": "code",
   "execution_count": 7,
   "metadata": {},
   "outputs": [
    {
     "name": "stdout",
     "output_type": "stream",
     "text": [
      "2025-05-03 20:34:41,870 INFO: HTTP Request: GET https://dagshub.com/api/v1/repos/sai-snehitha/citi-bike-prediction-system \"HTTP/1.1 200 OK\"\n"
     ]
    },
    {
     "data": {
      "text/html": [
       "<pre style=\"white-space:pre;overflow-x:auto;line-height:normal;font-family:Menlo,'DejaVu Sans Mono',consolas,'Courier New',monospace\">Initialized MLflow to track repo <span style=\"color: #008000; text-decoration-color: #008000\">\"sai-snehitha/citi-bike-prediction-system\"</span>\n",
       "</pre>\n"
      ],
      "text/plain": [
       "Initialized MLflow to track repo \u001b[32m\"sai-snehitha/citi-bike-prediction-system\"\u001b[0m\n"
      ]
     },
     "metadata": {},
     "output_type": "display_data"
    },
    {
     "name": "stdout",
     "output_type": "stream",
     "text": [
      "2025-05-03 20:34:41,879 INFO: Initialized MLflow to track repo \"sai-snehitha/citi-bike-prediction-system\"\n"
     ]
    },
    {
     "data": {
      "text/html": [
       "<pre style=\"white-space:pre;overflow-x:auto;line-height:normal;font-family:Menlo,'DejaVu Sans Mono',consolas,'Courier New',monospace\">Repository sai-snehitha/citi-bike-prediction-system initialized!\n",
       "</pre>\n"
      ],
      "text/plain": [
       "Repository sai-snehitha/citi-bike-prediction-system initialized!\n"
      ]
     },
     "metadata": {},
     "output_type": "display_data"
    },
    {
     "name": "stdout",
     "output_type": "stream",
     "text": [
      "2025-05-03 20:34:41,881 INFO: Repository sai-snehitha/citi-bike-prediction-system initialized!\n",
      "✅ Baseline model logged to DagsHub MLflow\n",
      "🏃 View run Baseline - Lag_1 at: https://dagshub.com/sai-snehitha/citi-bike-prediction-system.mlflow/#/experiments/0/runs/dcb20d298c1049fab60aaa5c60c8cee9\n",
      "🧪 View experiment at: https://dagshub.com/sai-snehitha/citi-bike-prediction-system.mlflow/#/experiments/0\n"
     ]
    }
   ],
   "source": [
    "import dagshub\n",
    "dagshub.init(repo_owner='sai-snehitha', repo_name='citi-bike-prediction-system', mlflow=True)\n",
    "\n",
    "import mlflow\n",
    "with mlflow.start_run(run_name=\"Baseline - Lag_1\"):\n",
    "    mlflow.log_param(\"model_type\", \"baseline\")\n",
    "    mlflow.log_param(\"features_used\", \"lag_1\")\n",
    "    mlflow.log_param(\"data_split\", \"last_30_days\")\n",
    "\n",
    "    mlflow.log_metric(\"MAE\", mae)\n",
    "    mlflow.log_metric(\"MAPE\", mape)\n",
    "\n",
    "    print(\"✅ Baseline model logged to DagsHub MLflow\")\n"
   ]
  }
 ],
 "metadata": {
  "kernelspec": {
   "display_name": "venv",
   "language": "python",
   "name": "python3"
  },
  "language_info": {
   "codemirror_mode": {
    "name": "ipython",
    "version": 3
   },
   "file_extension": ".py",
   "mimetype": "text/x-python",
   "name": "python",
   "nbconvert_exporter": "python",
   "pygments_lexer": "ipython3",
   "version": "3.10.16"
  }
 },
 "nbformat": 4,
 "nbformat_minor": 2
}
