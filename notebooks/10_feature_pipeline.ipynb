{
 "cells": [
  {
   "cell_type": "code",
   "execution_count": 2,
   "metadata": {},
   "outputs": [
    {
     "name": "stdout",
     "output_type": "stream",
     "text": [
      "✅ Corrected path: /Users/snehitha/citi_bike_project/scripts\n",
      "✅ sys.path updated.\n"
     ]
    }
   ],
   "source": [
    "import os\n",
    "import sys\n",
    "import pandas as pd\n",
    "\n",
    "# Go one directory up and into 'scripts'\n",
    "scripts_path = os.path.abspath(os.path.join(os.getcwd(), \"..\", \"scripts\"))\n",
    "print(\"✅ Corrected path:\", scripts_path)\n",
    "\n",
    "# Add to path and confirm\n",
    "sys.path.append(scripts_path)\n",
    "print(\"✅ sys.path updated.\")\n",
    "\n",
    "# Try import again\n",
    "from data_utils import transform_ts_data_into_features_and_target_loop\n"
   ]
  },
  {
   "cell_type": "code",
   "execution_count": 3,
   "metadata": {},
   "outputs": [
    {
     "name": "stdout",
     "output_type": "stream",
     "text": [
      "📍 Processing location: HB102\n",
      "📍 Processing location: HB105\n",
      "📍 Processing location: JC115\n"
     ]
    }
   ],
   "source": [
    "# Step 2: Load the timeseries data\n",
    "ts_df = pd.read_csv(\"../data/ts_data.csv\", parse_dates=[\"pickup_hour\"])\n",
    "ts_df.set_index(\"pickup_hour\", inplace=True)\n",
    "\n",
    "# Step 3: Define the 3 location IDs to use\n",
    "location_ids = [\"HB102\", \"HB105\", \"JC115\"]\n",
    "\n",
    "# Step 4: Call the utility function to generate lag features\n",
    "feature_dfs = transform_ts_data_into_features_and_target_loop(ts_df, location_ids)\n"
   ]
  },
  {
   "cell_type": "code",
   "execution_count": 4,
   "metadata": {},
   "outputs": [
    {
     "data": {
      "text/plain": [
       "dict_keys(['HB102', 'HB105', 'JC115'])"
      ]
     },
     "execution_count": 4,
     "metadata": {},
     "output_type": "execute_result"
    }
   ],
   "source": [
    "feature_dfs.keys()\n"
   ]
  },
  {
   "cell_type": "code",
   "execution_count": 5,
   "metadata": {},
   "outputs": [
    {
     "name": "stderr",
     "output_type": "stream",
     "text": [
      "/Users/snehitha/citi_bike_project/venv/lib/python3.10/site-packages/tqdm/auto.py:21: TqdmWarning: IProgress not found. Please update jupyter and ipywidgets. See https://ipywidgets.readthedocs.io/en/stable/user_install.html\n",
      "  from .autonotebook import tqdm as notebook_tqdm\n"
     ]
    },
    {
     "name": "stdout",
     "output_type": "stream",
     "text": [
      "✅ Combined shape: (26100, 54)\n",
      "2025-05-08 16:26:56,855 INFO: Initializing external client\n",
      "2025-05-08 16:26:56,856 INFO: Base URL: https://c.app.hopsworks.ai:443\n",
      "2025-05-08 16:26:58,084 INFO: Python Engine initialized.\n",
      "\n",
      "Logged in to project, explore it here https://c.app.hopsworks.ai:443/p/1215691\n",
      "Feature Group created successfully, explore it at \n",
      "https://c.app.hopsworks.ai:443/p/1215691/fs/1203317/fg/1454445\n"
     ]
    },
    {
     "name": "stderr",
     "output_type": "stream",
     "text": [
      "Uploading Dataframe: 100.00% |██████████| Rows 26100/26100 | Elapsed Time: 00:14 | Remaining Time: 00:00\n"
     ]
    },
    {
     "name": "stdout",
     "output_type": "stream",
     "text": [
      "Launching job: citi_bike_features_2_offline_fg_materialization\n",
      "Job started successfully, you can follow the progress at \n",
      "https://c.app.hopsworks.ai:443/p/1215691/jobs/named/citi_bike_features_2_offline_fg_materialization/executions\n",
      "✅ Saved version 2 to Hopsworks.\n"
     ]
    }
   ],
   "source": [
    "import hopsworks\n",
    "\n",
    "# Step 1: Combine per-location feature DataFrames into one DataFrame\n",
    "combined_dfs = []\n",
    "for location_id, df in feature_dfs.items():\n",
    "    df = df.copy()\n",
    "    df[\"location_id\"] = location_id\n",
    "    df.reset_index(inplace=True)  # So pickup_hour becomes a column again\n",
    "    combined_dfs.append(df)\n",
    "\n",
    "all_features_df = pd.concat(combined_dfs)\n",
    "print(\"✅ Combined shape:\", all_features_df.shape)\n",
    "\n",
    "# Step 2: Login to Hopsworks\n",
    "project = hopsworks.login()\n",
    "fs = project.get_feature_store()\n",
    "\n",
    "# Step 3: Define a version 2 of your feature group\n",
    "fg = fs.get_or_create_feature_group(\n",
    "    name=\"citi_bike_features\",\n",
    "    version=2,\n",
    "    description=\"Lag and time features for 3 Citi Bike locations (v2)\",\n",
    "    primary_key=[\"pickup_hour\", \"location_id\"],\n",
    "    event_time=\"pickup_hour\"\n",
    ")\n",
    "\n",
    "# Step 4: Insert data into the feature group\n",
    "fg.insert(all_features_df, overwrite=True)\n",
    "print(\"✅ Saved version 2 to Hopsworks.\")\n"
   ]
  },
  {
   "cell_type": "code",
   "execution_count": 10,
   "metadata": {},
   "outputs": [
    {
     "name": "stdout",
     "output_type": "stream",
     "text": [
      "\n",
      "📍 Location ID: HB102\n",
      "➡️ Columns: ['target', 'lag_1', 'lag_2', 'lag_3', 'lag_4', 'lag_5', 'lag_6', 'lag_7', 'lag_8', 'lag_9', 'lag_10', 'lag_11', 'lag_12', 'lag_13', 'lag_14', 'lag_15', 'lag_16', 'lag_17', 'lag_18', 'lag_19', 'lag_20', 'lag_21', 'lag_22', 'lag_23', 'lag_24', 'lag_25', 'lag_26', 'lag_27', 'lag_28', 'lag_29', 'lag_30', 'lag_31', 'lag_32', 'lag_33', 'lag_34', 'lag_35', 'lag_36', 'lag_37', 'lag_38', 'lag_39', 'lag_40', 'lag_41', 'lag_42', 'lag_43', 'lag_44', 'lag_45', 'lag_46', 'lag_47', 'lag_48', 'hour', 'dayofweek', 'is_weekend']\n",
      "\n",
      "📍 Location ID: HB105\n",
      "➡️ Columns: ['target', 'lag_1', 'lag_2', 'lag_3', 'lag_4', 'lag_5', 'lag_6', 'lag_7', 'lag_8', 'lag_9', 'lag_10', 'lag_11', 'lag_12', 'lag_13', 'lag_14', 'lag_15', 'lag_16', 'lag_17', 'lag_18', 'lag_19', 'lag_20', 'lag_21', 'lag_22', 'lag_23', 'lag_24', 'lag_25', 'lag_26', 'lag_27', 'lag_28', 'lag_29', 'lag_30', 'lag_31', 'lag_32', 'lag_33', 'lag_34', 'lag_35', 'lag_36', 'lag_37', 'lag_38', 'lag_39', 'lag_40', 'lag_41', 'lag_42', 'lag_43', 'lag_44', 'lag_45', 'lag_46', 'lag_47', 'lag_48', 'hour', 'dayofweek', 'is_weekend']\n",
      "\n",
      "📍 Location ID: JC115\n",
      "➡️ Columns: ['target', 'lag_1', 'lag_2', 'lag_3', 'lag_4', 'lag_5', 'lag_6', 'lag_7', 'lag_8', 'lag_9', 'lag_10', 'lag_11', 'lag_12', 'lag_13', 'lag_14', 'lag_15', 'lag_16', 'lag_17', 'lag_18', 'lag_19', 'lag_20', 'lag_21', 'lag_22', 'lag_23', 'lag_24', 'lag_25', 'lag_26', 'lag_27', 'lag_28', 'lag_29', 'lag_30', 'lag_31', 'lag_32', 'lag_33', 'lag_34', 'lag_35', 'lag_36', 'lag_37', 'lag_38', 'lag_39', 'lag_40', 'lag_41', 'lag_42', 'lag_43', 'lag_44', 'lag_45', 'lag_46', 'lag_47', 'lag_48', 'hour', 'dayofweek', 'is_weekend']\n"
     ]
    }
   ],
   "source": [
    "# Check keys and columns from each dataframe in the dictionary\n",
    "for loc_id, df in feature_dfs.items():\n",
    "    print(f\"\\n📍 Location ID: {loc_id}\")\n",
    "    print(\"➡️ Columns:\", df.columns.tolist())\n"
   ]
  },
  {
   "cell_type": "code",
   "execution_count": 9,
   "metadata": {},
   "outputs": [
    {
     "name": "stdout",
     "output_type": "stream",
     "text": [
      "2025-05-08 17:13:44,277 INFO: Closing external client and cleaning up certificates.\n",
      "Connection closed.\n",
      "2025-05-08 17:13:44,296 INFO: Initializing external client\n",
      "2025-05-08 17:13:44,297 INFO: Base URL: https://c.app.hopsworks.ai:443\n",
      "2025-05-08 17:13:45,407 INFO: Python Engine initialized.\n",
      "\n",
      "Logged in to project, explore it here https://c.app.hopsworks.ai:443/p/1215691\n"
     ]
    },
    {
     "ename": "KeyError",
     "evalue": "'location_id'",
     "output_type": "error",
     "traceback": [
      "\u001b[0;31m---------------------------------------------------------------------------\u001b[0m",
      "\u001b[0;31mKeyError\u001b[0m                                  Traceback (most recent call last)",
      "File \u001b[0;32m~/citi_bike_project/venv/lib/python3.10/site-packages/pandas/core/indexes/base.py:3791\u001b[0m, in \u001b[0;36mIndex.get_loc\u001b[0;34m(self, key)\u001b[0m\n\u001b[1;32m   3790\u001b[0m \u001b[38;5;28;01mtry\u001b[39;00m:\n\u001b[0;32m-> 3791\u001b[0m     \u001b[38;5;28;01mreturn\u001b[39;00m \u001b[38;5;28;43mself\u001b[39;49m\u001b[38;5;241;43m.\u001b[39;49m\u001b[43m_engine\u001b[49m\u001b[38;5;241;43m.\u001b[39;49m\u001b[43mget_loc\u001b[49m\u001b[43m(\u001b[49m\u001b[43mcasted_key\u001b[49m\u001b[43m)\u001b[49m\n\u001b[1;32m   3792\u001b[0m \u001b[38;5;28;01mexcept\u001b[39;00m \u001b[38;5;167;01mKeyError\u001b[39;00m \u001b[38;5;28;01mas\u001b[39;00m err:\n",
      "File \u001b[0;32mindex.pyx:152\u001b[0m, in \u001b[0;36mpandas._libs.index.IndexEngine.get_loc\u001b[0;34m()\u001b[0m\n",
      "File \u001b[0;32mindex.pyx:181\u001b[0m, in \u001b[0;36mpandas._libs.index.IndexEngine.get_loc\u001b[0;34m()\u001b[0m\n",
      "File \u001b[0;32mpandas/_libs/hashtable_class_helper.pxi:7080\u001b[0m, in \u001b[0;36mpandas._libs.hashtable.PyObjectHashTable.get_item\u001b[0;34m()\u001b[0m\n",
      "File \u001b[0;32mpandas/_libs/hashtable_class_helper.pxi:7088\u001b[0m, in \u001b[0;36mpandas._libs.hashtable.PyObjectHashTable.get_item\u001b[0;34m()\u001b[0m\n",
      "\u001b[0;31mKeyError\u001b[0m: 'location_id'",
      "\nThe above exception was the direct cause of the following exception:\n",
      "\u001b[0;31mKeyError\u001b[0m                                  Traceback (most recent call last)",
      "Cell \u001b[0;32mIn[9], line 13\u001b[0m\n\u001b[1;32m     10\u001b[0m all_features_df \u001b[38;5;241m=\u001b[39m all_features_df\u001b[38;5;241m.\u001b[39mreset_index()  \u001b[38;5;66;03m# restore 'pickup_hour' as a column\u001b[39;00m\n\u001b[1;32m     12\u001b[0m \u001b[38;5;66;03m# ✅ Fix data types\u001b[39;00m\n\u001b[0;32m---> 13\u001b[0m all_features_df[\u001b[38;5;124m\"\u001b[39m\u001b[38;5;124mlocation_id\u001b[39m\u001b[38;5;124m\"\u001b[39m] \u001b[38;5;241m=\u001b[39m \u001b[43mall_features_df\u001b[49m\u001b[43m[\u001b[49m\u001b[38;5;124;43m\"\u001b[39;49m\u001b[38;5;124;43mlocation_id\u001b[39;49m\u001b[38;5;124;43m\"\u001b[39;49m\u001b[43m]\u001b[49m\u001b[38;5;241m.\u001b[39mastype(\u001b[38;5;28mstr\u001b[39m)\n\u001b[1;32m     14\u001b[0m all_features_df[\u001b[38;5;124m\"\u001b[39m\u001b[38;5;124mpickup_hour\u001b[39m\u001b[38;5;124m\"\u001b[39m] \u001b[38;5;241m=\u001b[39m pd\u001b[38;5;241m.\u001b[39mto_datetime(all_features_df[\u001b[38;5;124m\"\u001b[39m\u001b[38;5;124mpickup_hour\u001b[39m\u001b[38;5;124m\"\u001b[39m])\n\u001b[1;32m     16\u001b[0m \u001b[38;5;66;03m# ✅ Drop rows with missing values in primary key columns (safety)\u001b[39;00m\n",
      "File \u001b[0;32m~/citi_bike_project/venv/lib/python3.10/site-packages/pandas/core/frame.py:3893\u001b[0m, in \u001b[0;36mDataFrame.__getitem__\u001b[0;34m(self, key)\u001b[0m\n\u001b[1;32m   3891\u001b[0m \u001b[38;5;28;01mif\u001b[39;00m \u001b[38;5;28mself\u001b[39m\u001b[38;5;241m.\u001b[39mcolumns\u001b[38;5;241m.\u001b[39mnlevels \u001b[38;5;241m>\u001b[39m \u001b[38;5;241m1\u001b[39m:\n\u001b[1;32m   3892\u001b[0m     \u001b[38;5;28;01mreturn\u001b[39;00m \u001b[38;5;28mself\u001b[39m\u001b[38;5;241m.\u001b[39m_getitem_multilevel(key)\n\u001b[0;32m-> 3893\u001b[0m indexer \u001b[38;5;241m=\u001b[39m \u001b[38;5;28;43mself\u001b[39;49m\u001b[38;5;241;43m.\u001b[39;49m\u001b[43mcolumns\u001b[49m\u001b[38;5;241;43m.\u001b[39;49m\u001b[43mget_loc\u001b[49m\u001b[43m(\u001b[49m\u001b[43mkey\u001b[49m\u001b[43m)\u001b[49m\n\u001b[1;32m   3894\u001b[0m \u001b[38;5;28;01mif\u001b[39;00m is_integer(indexer):\n\u001b[1;32m   3895\u001b[0m     indexer \u001b[38;5;241m=\u001b[39m [indexer]\n",
      "File \u001b[0;32m~/citi_bike_project/venv/lib/python3.10/site-packages/pandas/core/indexes/base.py:3798\u001b[0m, in \u001b[0;36mIndex.get_loc\u001b[0;34m(self, key)\u001b[0m\n\u001b[1;32m   3793\u001b[0m     \u001b[38;5;28;01mif\u001b[39;00m \u001b[38;5;28misinstance\u001b[39m(casted_key, \u001b[38;5;28mslice\u001b[39m) \u001b[38;5;129;01mor\u001b[39;00m (\n\u001b[1;32m   3794\u001b[0m         \u001b[38;5;28misinstance\u001b[39m(casted_key, abc\u001b[38;5;241m.\u001b[39mIterable)\n\u001b[1;32m   3795\u001b[0m         \u001b[38;5;129;01mand\u001b[39;00m \u001b[38;5;28many\u001b[39m(\u001b[38;5;28misinstance\u001b[39m(x, \u001b[38;5;28mslice\u001b[39m) \u001b[38;5;28;01mfor\u001b[39;00m x \u001b[38;5;129;01min\u001b[39;00m casted_key)\n\u001b[1;32m   3796\u001b[0m     ):\n\u001b[1;32m   3797\u001b[0m         \u001b[38;5;28;01mraise\u001b[39;00m InvalidIndexError(key)\n\u001b[0;32m-> 3798\u001b[0m     \u001b[38;5;28;01mraise\u001b[39;00m \u001b[38;5;167;01mKeyError\u001b[39;00m(key) \u001b[38;5;28;01mfrom\u001b[39;00m\u001b[38;5;250m \u001b[39m\u001b[38;5;21;01merr\u001b[39;00m\n\u001b[1;32m   3799\u001b[0m \u001b[38;5;28;01mexcept\u001b[39;00m \u001b[38;5;167;01mTypeError\u001b[39;00m:\n\u001b[1;32m   3800\u001b[0m     \u001b[38;5;66;03m# If we have a listlike key, _check_indexing_error will raise\u001b[39;00m\n\u001b[1;32m   3801\u001b[0m     \u001b[38;5;66;03m#  InvalidIndexError. Otherwise we fall through and re-raise\u001b[39;00m\n\u001b[1;32m   3802\u001b[0m     \u001b[38;5;66;03m#  the TypeError.\u001b[39;00m\n\u001b[1;32m   3803\u001b[0m     \u001b[38;5;28mself\u001b[39m\u001b[38;5;241m.\u001b[39m_check_indexing_error(key)\n",
      "\u001b[0;31mKeyError\u001b[0m: 'location_id'"
     ]
    }
   ],
   "source": [
    "import hopsworks\n",
    "import pandas as pd\n",
    "\n",
    "# Log in to Hopsworks\n",
    "project = hopsworks.login()\n",
    "fs = project.get_feature_store()\n",
    "\n",
    "# ✅ Recombine feature frames\n",
    "all_features_df = pd.concat(feature_dfs.values())\n",
    "all_features_df = all_features_df.reset_index()  # restore 'pickup_hour' as a column\n",
    "\n",
    "# ✅ Fix data types\n",
    "all_features_df[\"location_id\"] = all_features_df[\"location_id\"].astype(str)\n",
    "all_features_df[\"pickup_hour\"] = pd.to_datetime(all_features_df[\"pickup_hour\"])\n",
    "\n",
    "# ✅ Drop rows with missing values in primary key columns (safety)\n",
    "all_features_df.dropna(subset=[\"pickup_hour\", \"location_id\"], inplace=True)\n",
    "\n",
    "# ✅ Confirm\n",
    "print(\"✅ Combined shape:\", all_features_df.shape)\n",
    "print(\"✅ Columns:\", all_features_df.columns.tolist())\n",
    "print(\"✅ pickup_hour type:\", all_features_df[\"pickup_hour\"].dtype)\n",
    "print(\"✅ location_id type:\", all_features_df[\"location_id\"].dtype)\n",
    "\n",
    "# ✅ Register to Hopsworks\n",
    "fg = fs.get_or_create_feature_group(\n",
    "    name=\"citi_bike_features\",\n",
    "    version=2,\n",
    "    description=\"Lag and time features for 3 Citi Bike locations (v2)\",\n",
    "    primary_key=[\"pickup_hour\", \"location_id\"],\n",
    "    event_time=\"pickup_hour\",\n",
    ")\n",
    "\n",
    "# ✅ Insert into feature store\n",
    "fg.insert(all_features_df, overwrite=True)\n",
    "print(\"✅ Successfully pushed cleaned features to Hopsworks.\")\n"
   ]
  }
 ],
 "metadata": {
  "kernelspec": {
   "display_name": "venv",
   "language": "python",
   "name": "python3"
  },
  "language_info": {
   "codemirror_mode": {
    "name": "ipython",
    "version": 3
   },
   "file_extension": ".py",
   "mimetype": "text/x-python",
   "name": "python",
   "nbconvert_exporter": "python",
   "pygments_lexer": "ipython3",
   "version": "3.10.16"
  }
 },
 "nbformat": 4,
 "nbformat_minor": 2
}
