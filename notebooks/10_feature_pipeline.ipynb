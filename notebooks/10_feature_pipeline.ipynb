{
 "cells": [
  {
   "cell_type": "code",
   "execution_count": 2,
   "metadata": {},
   "outputs": [
    {
     "name": "stdout",
     "output_type": "stream",
     "text": [
      "✅ Corrected path: /Users/snehitha/citi_bike_project/scripts\n",
      "✅ sys.path updated.\n"
     ]
    }
   ],
   "source": [
    "import os\n",
    "import sys\n",
    "import pandas as pd\n",
    "\n",
    "# Go one directory up and into 'scripts'\n",
    "scripts_path = os.path.abspath(os.path.join(os.getcwd(), \"..\", \"scripts\"))\n",
    "print(\"✅ Corrected path:\", scripts_path)\n",
    "\n",
    "# Add to path and confirm\n",
    "sys.path.append(scripts_path)\n",
    "print(\"✅ sys.path updated.\")\n",
    "\n",
    "# Try import again\n",
    "from data_utils import transform_ts_data_into_features_and_target_loop\n"
   ]
  },
  {
   "cell_type": "code",
   "execution_count": 3,
   "metadata": {},
   "outputs": [
    {
     "name": "stdout",
     "output_type": "stream",
     "text": [
      "📍 Processing location: HB102\n",
      "📍 Processing location: HB105\n",
      "📍 Processing location: JC115\n"
     ]
    }
   ],
   "source": [
    "# Step 2: Load the timeseries data\n",
    "ts_df = pd.read_csv(\"../data/ts_data.csv\", parse_dates=[\"pickup_hour\"])\n",
    "ts_df.set_index(\"pickup_hour\", inplace=True)\n",
    "\n",
    "# Step 3: Define the 3 location IDs to use\n",
    "location_ids = [\"HB102\", \"HB105\", \"JC115\"]\n",
    "\n",
    "# Step 4: Call the utility function to generate lag features\n",
    "feature_dfs = transform_ts_data_into_features_and_target_loop(ts_df, location_ids)\n"
   ]
  },
  {
   "cell_type": "code",
   "execution_count": 4,
   "metadata": {},
   "outputs": [
    {
     "data": {
      "text/plain": [
       "dict_keys(['HB102', 'HB105', 'JC115'])"
      ]
     },
     "execution_count": 4,
     "metadata": {},
     "output_type": "execute_result"
    }
   ],
   "source": [
    "feature_dfs.keys()\n"
   ]
  },
  {
   "cell_type": "code",
   "execution_count": 5,
   "metadata": {},
   "outputs": [
    {
     "name": "stderr",
     "output_type": "stream",
     "text": [
      "/Users/snehitha/citi_bike_project/venv/lib/python3.10/site-packages/tqdm/auto.py:21: TqdmWarning: IProgress not found. Please update jupyter and ipywidgets. See https://ipywidgets.readthedocs.io/en/stable/user_install.html\n",
      "  from .autonotebook import tqdm as notebook_tqdm\n"
     ]
    },
    {
     "name": "stdout",
     "output_type": "stream",
     "text": [
      "✅ Combined shape: (26100, 54)\n",
      "2025-05-08 16:26:56,855 INFO: Initializing external client\n",
      "2025-05-08 16:26:56,856 INFO: Base URL: https://c.app.hopsworks.ai:443\n",
      "2025-05-08 16:26:58,084 INFO: Python Engine initialized.\n",
      "\n",
      "Logged in to project, explore it here https://c.app.hopsworks.ai:443/p/1215691\n",
      "Feature Group created successfully, explore it at \n",
      "https://c.app.hopsworks.ai:443/p/1215691/fs/1203317/fg/1454445\n"
     ]
    },
    {
     "name": "stderr",
     "output_type": "stream",
     "text": [
      "Uploading Dataframe: 100.00% |██████████| Rows 26100/26100 | Elapsed Time: 00:14 | Remaining Time: 00:00\n"
     ]
    },
    {
     "name": "stdout",
     "output_type": "stream",
     "text": [
      "Launching job: citi_bike_features_2_offline_fg_materialization\n",
      "Job started successfully, you can follow the progress at \n",
      "https://c.app.hopsworks.ai:443/p/1215691/jobs/named/citi_bike_features_2_offline_fg_materialization/executions\n",
      "✅ Saved version 2 to Hopsworks.\n"
     ]
    }
   ],
   "source": [
    "import hopsworks\n",
    "\n",
    "# Step 1: Combine per-location feature DataFrames into one DataFrame\n",
    "combined_dfs = []\n",
    "for location_id, df in feature_dfs.items():\n",
    "    df = df.copy()\n",
    "    df[\"location_id\"] = location_id\n",
    "    df.reset_index(inplace=True)  # So pickup_hour becomes a column again\n",
    "    combined_dfs.append(df)\n",
    "\n",
    "all_features_df = pd.concat(combined_dfs)\n",
    "print(\"✅ Combined shape:\", all_features_df.shape)\n",
    "\n",
    "# Step 2: Login to Hopsworks\n",
    "project = hopsworks.login()\n",
    "fs = project.get_feature_store()\n",
    "\n",
    "# Step 3: Define a version 2 of your feature group\n",
    "fg = fs.get_or_create_feature_group(\n",
    "    name=\"citi_bike_features\",\n",
    "    version=2,\n",
    "    description=\"Lag and time features for 3 Citi Bike locations (v2)\",\n",
    "    primary_key=[\"pickup_hour\", \"location_id\"],\n",
    "    event_time=\"pickup_hour\"\n",
    ")\n",
    "\n",
    "# Step 4: Insert data into the feature group\n",
    "fg.insert(all_features_df, overwrite=True)\n",
    "print(\"✅ Saved version 2 to Hopsworks.\")\n"
   ]
  },
  {
   "cell_type": "code",
   "execution_count": 10,
   "metadata": {},
   "outputs": [
    {
     "name": "stdout",
     "output_type": "stream",
     "text": [
      "\n",
      "📍 Location ID: HB102\n",
      "➡️ Columns: ['target', 'lag_1', 'lag_2', 'lag_3', 'lag_4', 'lag_5', 'lag_6', 'lag_7', 'lag_8', 'lag_9', 'lag_10', 'lag_11', 'lag_12', 'lag_13', 'lag_14', 'lag_15', 'lag_16', 'lag_17', 'lag_18', 'lag_19', 'lag_20', 'lag_21', 'lag_22', 'lag_23', 'lag_24', 'lag_25', 'lag_26', 'lag_27', 'lag_28', 'lag_29', 'lag_30', 'lag_31', 'lag_32', 'lag_33', 'lag_34', 'lag_35', 'lag_36', 'lag_37', 'lag_38', 'lag_39', 'lag_40', 'lag_41', 'lag_42', 'lag_43', 'lag_44', 'lag_45', 'lag_46', 'lag_47', 'lag_48', 'hour', 'dayofweek', 'is_weekend']\n",
      "\n",
      "📍 Location ID: HB105\n",
      "➡️ Columns: ['target', 'lag_1', 'lag_2', 'lag_3', 'lag_4', 'lag_5', 'lag_6', 'lag_7', 'lag_8', 'lag_9', 'lag_10', 'lag_11', 'lag_12', 'lag_13', 'lag_14', 'lag_15', 'lag_16', 'lag_17', 'lag_18', 'lag_19', 'lag_20', 'lag_21', 'lag_22', 'lag_23', 'lag_24', 'lag_25', 'lag_26', 'lag_27', 'lag_28', 'lag_29', 'lag_30', 'lag_31', 'lag_32', 'lag_33', 'lag_34', 'lag_35', 'lag_36', 'lag_37', 'lag_38', 'lag_39', 'lag_40', 'lag_41', 'lag_42', 'lag_43', 'lag_44', 'lag_45', 'lag_46', 'lag_47', 'lag_48', 'hour', 'dayofweek', 'is_weekend']\n",
      "\n",
      "📍 Location ID: JC115\n",
      "➡️ Columns: ['target', 'lag_1', 'lag_2', 'lag_3', 'lag_4', 'lag_5', 'lag_6', 'lag_7', 'lag_8', 'lag_9', 'lag_10', 'lag_11', 'lag_12', 'lag_13', 'lag_14', 'lag_15', 'lag_16', 'lag_17', 'lag_18', 'lag_19', 'lag_20', 'lag_21', 'lag_22', 'lag_23', 'lag_24', 'lag_25', 'lag_26', 'lag_27', 'lag_28', 'lag_29', 'lag_30', 'lag_31', 'lag_32', 'lag_33', 'lag_34', 'lag_35', 'lag_36', 'lag_37', 'lag_38', 'lag_39', 'lag_40', 'lag_41', 'lag_42', 'lag_43', 'lag_44', 'lag_45', 'lag_46', 'lag_47', 'lag_48', 'hour', 'dayofweek', 'is_weekend']\n"
     ]
    }
   ],
   "source": [
    "# Check keys and columns from each dataframe in the dictionary\n",
    "for loc_id, df in feature_dfs.items():\n",
    "    print(f\"\\n📍 Location ID: {loc_id}\")\n",
    "    print(\"➡️ Columns:\", df.columns.tolist())\n"
   ]
  },
  {
   "cell_type": "code",
   "execution_count": 28,
   "metadata": {},
   "outputs": [],
   "source": [
    "import numpy as np\n",
    "\n",
    "# 🧹 Drop all columns that contain nested arrays/lists\n",
    "def is_nested(val):\n",
    "    return isinstance(val, (list, np.ndarray)) and np.array(val).ndim > 1\n",
    "\n",
    "columns_to_drop = []\n",
    "for col in all_features_df.columns:\n",
    "    if all_features_df[col].apply(lambda x: is_nested(x)).any():\n",
    "        print(f\"❌ Dropping column '{col}' (contains nested data)\")\n",
    "        columns_to_drop.append(col)\n",
    "\n",
    "# Drop invalid columns\n",
    "all_features_df = all_features_df.drop(columns=columns_to_drop)\n"
   ]
  },
  {
   "cell_type": "code",
   "execution_count": 32,
   "metadata": {},
   "outputs": [],
   "source": [
    "# feature_dfs = {\"HB102\": df1, \"HB105\": df2, \"JC115\": df3}\n",
    "\n",
    "all_dfs = []\n",
    "for loc_id, df in feature_dfs.items():\n",
    "    df = df.copy()\n",
    "    df[\"location_id\"] = loc_id  # 🔥 Add missing column here\n",
    "    all_dfs.append(df)\n",
    "\n",
    "all_features_df = pd.concat(all_dfs)\n"
   ]
  },
  {
   "cell_type": "code",
   "execution_count": 48,
   "metadata": {},
   "outputs": [
    {
     "name": "stdout",
     "output_type": "stream",
     "text": [
      "2025-05-08 19:04:39,102 INFO: Closing external client and cleaning up certificates.\n",
      "Connection closed.\n",
      "2025-05-08 19:04:39,108 INFO: Initializing external client\n",
      "2025-05-08 19:04:39,108 INFO: Base URL: https://c.app.hopsworks.ai:443\n",
      "2025-05-08 19:04:40,284 INFO: Python Engine initialized.\n",
      "\n",
      "Logged in to project, explore it here https://c.app.hopsworks.ai:443/p/1215691\n",
      "🗑️ Deleting existing version 2\n"
     ]
    },
    {
     "name": "stderr",
     "output_type": "stream",
     "text": [
      "JobWarning: All jobs associated to feature group `citi_bike_features`, version `2` will be removed.\n"
     ]
    },
    {
     "name": "stdout",
     "output_type": "stream",
     "text": [
      "Feature Group created successfully, explore it at \n",
      "https://c.app.hopsworks.ai:443/p/1215691/fs/1203317/fg/1454460\n"
     ]
    },
    {
     "name": "stderr",
     "output_type": "stream",
     "text": [
      "Uploading Dataframe: 100.00% |██████████| Rows 26100/26100 | Elapsed Time: 00:15 | Remaining Time: 00:00\n"
     ]
    },
    {
     "name": "stdout",
     "output_type": "stream",
     "text": [
      "Launching job: citi_bike_features_2_offline_fg_materialization\n",
      "Job started successfully, you can follow the progress at \n",
      "https://c.app.hopsworks.ai:443/p/1215691/jobs/named/citi_bike_features_2_offline_fg_materialization/executions\n",
      "2025-05-08 19:05:11,999 INFO: Waiting for execution to finish. Current state: SUBMITTED. Final status: UNDEFINED\n",
      "2025-05-08 19:05:15,184 INFO: Waiting for execution to finish. Current state: RUNNING. Final status: UNDEFINED\n",
      "2025-05-08 19:07:09,446 INFO: Waiting for execution to finish. Current state: AGGREGATING_LOGS. Final status: SUCCEEDED\n",
      "2025-05-08 19:07:09,598 INFO: Waiting for log aggregation to finish.\n",
      "2025-05-08 19:07:27,968 INFO: Execution finished successfully.\n",
      "✅ Successfully inserted data. Check 'Data Preview' tab.\n"
     ]
    }
   ],
   "source": [
    "import pandas as pd\n",
    "import hopsworks\n",
    "\n",
    "# 🔁 Clean Hopsworks session\n",
    "project = hopsworks.login()\n",
    "fs = project.get_feature_store()\n",
    "\n",
    "# 🧹 Drop duplicate rows (required for Hudi)\n",
    "all_features_df = all_features_df.drop_duplicates(subset=[\"pickup_hour\", \"location_id\"])\n",
    "\n",
    "# 🧼 Ensure proper types\n",
    "all_features_df[\"pickup_hour\"] = pd.to_datetime(all_features_df[\"pickup_hour\"])\n",
    "all_features_df[\"location_id\"] = all_features_df[\"location_id\"].astype(str)\n",
    "\n",
    "# 🗑️ Delete stale version if it exists\n",
    "fgs = fs.get_feature_groups(name=\"citi_bike_features\")\n",
    "for fg_item in fgs:\n",
    "    if fg_item.version == 2:\n",
    "        print(\"🗑️ Deleting existing version 2\")\n",
    "        fg_item.delete()\n",
    "\n",
    "# ✅ Recreate feature group (force offline)\n",
    "fg = fs.create_feature_group(\n",
    "    name=\"citi_bike_features\",\n",
    "    version=2,\n",
    "    description=\"Lag and time features for 3 Citi Bike locations (v2)\",\n",
    "    primary_key=[\"pickup_hour\", \"location_id\"],\n",
    "    event_time=\"pickup_hour\",\n",
    "    online_enabled=False  # ✅ ensure only offline storage is used\n",
    ")\n",
    "\n",
    "# ⬆️ Insert data and wait for materialization\n",
    "fg.insert(all_features_df, write_options={\"wait_for_job\": True})\n",
    "print(\"✅ Successfully inserted data. Check 'Data Preview' tab.\")\n"
   ]
  }
 ],
 "metadata": {
  "kernelspec": {
   "display_name": "venv",
   "language": "python",
   "name": "python3"
  },
  "language_info": {
   "codemirror_mode": {
    "name": "ipython",
    "version": 3
   },
   "file_extension": ".py",
   "mimetype": "text/x-python",
   "name": "python",
   "nbconvert_exporter": "python",
   "pygments_lexer": "ipython3",
   "version": "3.10.16"
  }
 },
 "nbformat": 4,
 "nbformat_minor": 2
}
